{
 "cells": [
  {
   "cell_type": "code",
   "execution_count": 1,
   "metadata": {},
   "outputs": [],
   "source": [
    "from IPython import get_ipython\n",
    "ip = get_ipython()\n",
    "ip.run_line_magic(\"reload_ext\", \"autoreload\")  # these will enable module autoreloading\n",
    "ip.run_line_magic(\"autoreload\", \"2\")"
   ]
  },
  {
   "cell_type": "markdown",
   "metadata": {},
   "source": [
    "### Get List of Reports Available"
   ]
  },
  {
   "cell_type": "code",
   "execution_count": 2,
   "metadata": {},
   "outputs": [
    {
     "name": "stdout",
     "output_type": "stream",
     "text": [
      "['Tax_Relevant_Export_2022.xml']\n"
     ]
    },
    {
     "name": "stderr",
     "output_type": "stream",
     "text": [
      "404 Client Error: Not Found for url: https://query2.finance.yahoo.com/v10/finance/quoteSummary/?modules=financialData%2CquoteType%2CdefaultKeyStatistics%2CassetProfile%2CsummaryDetail&corsDomain=finance.yahoo.com&formatted=false&symbol=&crumb=yh7ZGKMLs20\n"
     ]
    },
    {
     "name": "stdout",
     "output_type": "stream",
     "text": [
      "Failed online lookup of ISIN (US9663875089), falling back to hardcoded company definitions\n",
      "Failed online lookup of ISIN (US9663875089), falling back to hardcoded company definitions\n"
     ]
    }
   ],
   "source": [
    "import os\n",
    "from glob import glob\n",
    "import ExportProvider.IBRK.Extract as ibrk\n",
    "from lxml import etree\n",
    "from ReportingStrategies.Slovenia.ReportGeneration import EDavkiReportWrapper\n",
    "from ReportingStrategies.Slovenia.ReportGeneration import EDavkiDividendReport\n",
    "import ReportingStrategies.Slovenia.Mappers.IBRK as ibrkMapper\n",
    "from Common.Configuration import TaxPayerInfo\n",
    "from Common.Configuration import TaxPayerType\n",
    "from Common.Configuration import ReportBaseConfig\n",
    "from arrow import Arrow\n",
    "import arrow\n",
    "\n",
    "rootOfProject = os.getcwd()\n",
    "\n",
    "reportsDirectory = os.path.join(rootOfProject, \"BrokerExports\")\n",
    "generatedDirectory = os.path.join(rootOfProject, \"GeneratedReports\")\n",
    "\n",
    "brokerExports = glob(\"*.xml\", root_dir=reportsDirectory)\n",
    "print(brokerExports)\n",
    "\n",
    "\n",
    "def loadFileAndExtractLines(file: str):\n",
    "    fileLocation = os.path.join(reportsDirectory, file)\n",
    "    \n",
    "    with open(fileLocation) as fobj:\n",
    "        xml = fobj.read()\n",
    "\n",
    "    root = etree.fromstring(xml)\n",
    "    transactions = ibrk.extractCashTransactionFromXML(root)\n",
    "    return transactions\n",
    "\n",
    "brokerReports = list(map(loadFileAndExtractLines, brokerExports))\n",
    "mergedReports = ibrk.mergeCashTransactions(brokerReports)\n",
    "\n",
    "taxPayerInfo = TaxPayerInfo(\n",
    "    taxNumber = \"davcna\",\n",
    "    taxpayerType = TaxPayerType.PHYSICAL_SUBJECT,\n",
    "    name = \"ime priimek\",\n",
    "    address1 = \"naslov\",\n",
    "    address2 = None,\n",
    "    city = \"mesto\",\n",
    "    postNumber = \"postna #\",\n",
    "    postName = \"posta\",\n",
    "    municipalityName = \"obcina\",\n",
    "    birthDate = Arrow.now(),\n",
    "    maticnaStevilka = \"emsa\",\n",
    "    invalidskoPodjetje = False,\n",
    "    resident = True,\n",
    "    activityCode = \"\",\n",
    "    activityName = \"\",\n",
    "    countryID = \"SI\",\n",
    "    countryName = \"Slovenia\"\n",
    ")\n",
    "basicReport = EDavkiReportWrapper(taxPayerInfo)\n",
    "envelope = basicReport.createReportEnvelope()\n",
    "\n",
    "\n",
    "reportconfig = ReportBaseConfig(fromDate=arrow.get(\"2022\"), toDate=arrow.get(\"2023\"))\n",
    "dividendReport = EDavkiDividendReport(reportConfig=reportconfig, taxPayerInfo=taxPayerInfo)\n",
    "\n",
    "convertedCommonFormat = ibrkMapper.getGenericDividendLineFromIBRKCashTransactions(mergedReports)\n",
    "\n",
    "csvReport = dividendReport.generateDataFrameReport(convertedCommonFormat)\n",
    "csvReport.to_csv(os.path.join(generatedDirectory, 'export.csv'), index=False)\n",
    "\n",
    "xmlReport = dividendReport.generateXmlReport(convertedCommonFormat, envelope)\n",
    "\n",
    "\n",
    "etree.ElementTree(xmlReport).write(os.path.join(generatedDirectory, \"Doh_Div_3.xml\"), xml_declaration=True, encoding='utf-8', pretty_print=True)\n",
    "\n"
   ]
  },
  {
   "cell_type": "markdown",
   "metadata": {},
   "source": [
    "### Stock Trades"
   ]
  },
  {
   "cell_type": "code",
   "execution_count": 4,
   "metadata": {},
   "outputs": [
    {
     "ename": "ValueError",
     "evalue": "'MKT' is not a valid OrderType",
     "output_type": "error",
     "traceback": [
      "\u001b[0;31m---------------------------------------------------------------------------\u001b[0m",
      "\u001b[0;31mValueError\u001b[0m                                Traceback (most recent call last)",
      "\u001b[1;32m/mnt/extra/Projects/IB-tax-calculator/dividents.ipynb Cell 5\u001b[0m line \u001b[0;36m1\n\u001b[1;32m     <a href='vscode-notebook-cell:/mnt/extra/Projects/IB-tax-calculator/dividents.ipynb#W4sZmlsZQ%3D%3D?line=10'>11</a>\u001b[0m     transactions \u001b[39m=\u001b[39m ibrk\u001b[39m.\u001b[39mextractTradesFromXML(root)\n\u001b[1;32m     <a href='vscode-notebook-cell:/mnt/extra/Projects/IB-tax-calculator/dividents.ipynb#W4sZmlsZQ%3D%3D?line=11'>12</a>\u001b[0m     \u001b[39mreturn\u001b[39;00m transactions\n\u001b[0;32m---> <a href='vscode-notebook-cell:/mnt/extra/Projects/IB-tax-calculator/dividents.ipynb#W4sZmlsZQ%3D%3D?line=13'>14</a>\u001b[0m brokerReports \u001b[39m=\u001b[39m \u001b[39mlist\u001b[39;49m(\u001b[39mmap\u001b[39;49m(loadFileAndExtractLines, brokerExports))\n\u001b[1;32m     <a href='vscode-notebook-cell:/mnt/extra/Projects/IB-tax-calculator/dividents.ipynb#W4sZmlsZQ%3D%3D?line=15'>16</a>\u001b[0m convertedCommonFormat \u001b[39m=\u001b[39m ibrkMapper\u001b[39m.\u001b[39mgetGenericTradeLinesFromIBRKTrades(brokerReports[\u001b[39m0\u001b[39m])\n\u001b[1;32m     <a href='vscode-notebook-cell:/mnt/extra/Projects/IB-tax-calculator/dividents.ipynb#W4sZmlsZQ%3D%3D?line=17'>18</a>\u001b[0m \u001b[39mprint\u001b[39m(convertedCommonFormat)\n",
      "\u001b[1;32m/mnt/extra/Projects/IB-tax-calculator/dividents.ipynb Cell 5\u001b[0m line \u001b[0;36m1\n\u001b[1;32m      <a href='vscode-notebook-cell:/mnt/extra/Projects/IB-tax-calculator/dividents.ipynb#W4sZmlsZQ%3D%3D?line=7'>8</a>\u001b[0m     xml \u001b[39m=\u001b[39m fobj\u001b[39m.\u001b[39mread()\n\u001b[1;32m     <a href='vscode-notebook-cell:/mnt/extra/Projects/IB-tax-calculator/dividents.ipynb#W4sZmlsZQ%3D%3D?line=9'>10</a>\u001b[0m root \u001b[39m=\u001b[39m etree\u001b[39m.\u001b[39mfromstring(xml)\n\u001b[0;32m---> <a href='vscode-notebook-cell:/mnt/extra/Projects/IB-tax-calculator/dividents.ipynb#W4sZmlsZQ%3D%3D?line=10'>11</a>\u001b[0m transactions \u001b[39m=\u001b[39m ibrk\u001b[39m.\u001b[39;49mextractTradesFromXML(root)\n\u001b[1;32m     <a href='vscode-notebook-cell:/mnt/extra/Projects/IB-tax-calculator/dividents.ipynb#W4sZmlsZQ%3D%3D?line=11'>12</a>\u001b[0m \u001b[39mreturn\u001b[39;00m transactions\n",
      "File \u001b[0;32m/mnt/extra/Projects/IB-tax-calculator/ExportProvider/IBRK/Extract.py:281\u001b[0m, in \u001b[0;36mextractTradesFromXML\u001b[0;34m(root)\u001b[0m\n\u001b[1;32m    190\u001b[0m     notesAndCodesParsed \u001b[39m=\u001b[39m \u001b[39mlist\u001b[39m(\u001b[39mmap\u001b[39m(\u001b[39mlambda\u001b[39;00m code: s\u001b[39m.\u001b[39mCodes(code), notesAndCodes))  \u001b[39mif\u001b[39;00m node\u001b[39m.\u001b[39mattrib[\u001b[39m'\u001b[39m\u001b[39mnotes\u001b[39m\u001b[39m'\u001b[39m] \u001b[39m!=\u001b[39m \u001b[39m\"\u001b[39m\u001b[39m\"\u001b[39m \u001b[39melse\u001b[39;00m []\n\u001b[1;32m    192\u001b[0m     \u001b[39mreturn\u001b[39;00m s\u001b[39m.\u001b[39mTradeLot(\n\u001b[1;32m    193\u001b[0m             ClientAccountID \u001b[39m=\u001b[39m node\u001b[39m.\u001b[39mattrib[\u001b[39m'\u001b[39m\u001b[39maccountId\u001b[39m\u001b[39m'\u001b[39m],\n\u001b[1;32m    194\u001b[0m             AccountAlias \u001b[39m=\u001b[39m valueOrNone(node\u001b[39m.\u001b[39mattrib[\u001b[39m'\u001b[39m\u001b[39macctAlias\u001b[39m\u001b[39m'\u001b[39m]),\n\u001b[0;32m   (...)\u001b[0m\n\u001b[1;32m    277\u001b[0m             Weight \u001b[39m=\u001b[39m \u001b[39mfloat\u001b[39m(node\u001b[39m.\u001b[39mattrib[\u001b[39m'\u001b[39m\u001b[39mweight\u001b[39m\u001b[39m'\u001b[39m])\n\u001b[1;32m    278\u001b[0m       )\n\u001b[0;32m--> 281\u001b[0m openTrades \u001b[39m=\u001b[39m \u001b[39mlist\u001b[39;49m(\u001b[39mmap\u001b[39;49m(xmlNodeToOpenTrade, openTradeNodes))\n\u001b[1;32m    282\u001b[0m closeTrades \u001b[39m=\u001b[39m \u001b[39mlist\u001b[39m(\u001b[39mmap\u001b[39m(xmlNodeToLotTrade, closeTradeNodes))\n\u001b[1;32m    284\u001b[0m \u001b[39mreturn\u001b[39;00m s\u001b[39m.\u001b[39mSegmentedTrades(\n\u001b[1;32m    285\u001b[0m      trades \u001b[39m=\u001b[39m openTrades,\n\u001b[1;32m    286\u001b[0m      lots \u001b[39m=\u001b[39m closeTrades\n\u001b[1;32m    287\u001b[0m )\n",
      "File \u001b[0;32m/mnt/extra/Projects/IB-tax-calculator/ExportProvider/IBRK/Extract.py:177\u001b[0m, in \u001b[0;36mextractTradesFromXML.<locals>.xmlNodeToOpenTrade\u001b[0;34m(node)\u001b[0m\n\u001b[1;32m     97\u001b[0m notesAndCodes \u001b[39m=\u001b[39m \u001b[39mstr\u001b[39m(node\u001b[39m.\u001b[39mattrib[\u001b[39m'\u001b[39m\u001b[39mnotes\u001b[39m\u001b[39m'\u001b[39m])\u001b[39m.\u001b[39msplit(\u001b[39m\"\u001b[39m\u001b[39m;\u001b[39m\u001b[39m\"\u001b[39m)\n\u001b[1;32m     98\u001b[0m notesAndCodesParsed \u001b[39m=\u001b[39m \u001b[39mlist\u001b[39m(\u001b[39mmap\u001b[39m(\u001b[39mlambda\u001b[39;00m code: s\u001b[39m.\u001b[39mCodes(code), notesAndCodes)) \u001b[39mif\u001b[39;00m node\u001b[39m.\u001b[39mattrib[\u001b[39m'\u001b[39m\u001b[39mnotes\u001b[39m\u001b[39m'\u001b[39m] \u001b[39m!=\u001b[39m \u001b[39m\"\u001b[39m\u001b[39m\"\u001b[39m \u001b[39melse\u001b[39;00m []\n\u001b[1;32m    100\u001b[0m \u001b[39mreturn\u001b[39;00m s\u001b[39m.\u001b[39mTrade(\n\u001b[1;32m    101\u001b[0m         ClientAccountID \u001b[39m=\u001b[39m node\u001b[39m.\u001b[39mattrib[\u001b[39m'\u001b[39m\u001b[39maccountId\u001b[39m\u001b[39m'\u001b[39m],\n\u001b[1;32m    102\u001b[0m         AccountAlias \u001b[39m=\u001b[39m valueOrNone(node\u001b[39m.\u001b[39mattrib[\u001b[39m'\u001b[39m\u001b[39macctAlias\u001b[39m\u001b[39m'\u001b[39m]),\n\u001b[1;32m    103\u001b[0m         Model \u001b[39m=\u001b[39m s\u001b[39m.\u001b[39mModel(node\u001b[39m.\u001b[39mattrib[\u001b[39m'\u001b[39m\u001b[39mmodel\u001b[39m\u001b[39m'\u001b[39m]) \u001b[39mif\u001b[39;00m node\u001b[39m.\u001b[39mattrib[\u001b[39m'\u001b[39m\u001b[39mmodel\u001b[39m\u001b[39m'\u001b[39m] \u001b[39m!=\u001b[39m \u001b[39m\"\u001b[39m\u001b[39m\"\u001b[39m \u001b[39melse\u001b[39;00m \u001b[39mNone\u001b[39;00m,\n\u001b[1;32m    104\u001b[0m         CurrencyPrimary \u001b[39m=\u001b[39m node\u001b[39m.\u001b[39mattrib[\u001b[39m'\u001b[39m\u001b[39mcurrency\u001b[39m\u001b[39m'\u001b[39m],\n\u001b[1;32m    105\u001b[0m         FXRateToBase \u001b[39m=\u001b[39m node\u001b[39m.\u001b[39mattrib[\u001b[39m'\u001b[39m\u001b[39mfxRateToBase\u001b[39m\u001b[39m'\u001b[39m],\n\u001b[1;32m    106\u001b[0m         AssetClass \u001b[39m=\u001b[39m s\u001b[39m.\u001b[39mAssetClass(node\u001b[39m.\u001b[39mattrib[\u001b[39m'\u001b[39m\u001b[39massetCategory\u001b[39m\u001b[39m'\u001b[39m]),\n\u001b[1;32m    107\u001b[0m         SubCategory \u001b[39m=\u001b[39m s\u001b[39m.\u001b[39mSubCategory(node\u001b[39m.\u001b[39mattrib[\u001b[39m'\u001b[39m\u001b[39msubCategory\u001b[39m\u001b[39m'\u001b[39m]),\n\u001b[1;32m    108\u001b[0m         Symbol \u001b[39m=\u001b[39m node\u001b[39m.\u001b[39mattrib[\u001b[39m'\u001b[39m\u001b[39msymbol\u001b[39m\u001b[39m'\u001b[39m],\n\u001b[1;32m    109\u001b[0m         Description \u001b[39m=\u001b[39m node\u001b[39m.\u001b[39mattrib[\u001b[39m'\u001b[39m\u001b[39mdescription\u001b[39m\u001b[39m'\u001b[39m],\n\u001b[1;32m    110\u001b[0m         Conid \u001b[39m=\u001b[39m node\u001b[39m.\u001b[39mattrib[\u001b[39m'\u001b[39m\u001b[39mconid\u001b[39m\u001b[39m'\u001b[39m],\n\u001b[1;32m    111\u001b[0m         SecurityID \u001b[39m=\u001b[39m node\u001b[39m.\u001b[39mattrib[\u001b[39m'\u001b[39m\u001b[39msecurityID\u001b[39m\u001b[39m'\u001b[39m],\n\u001b[1;32m    112\u001b[0m         SecurityIDType \u001b[39m=\u001b[39m s\u001b[39m.\u001b[39mSecurityIDType(node\u001b[39m.\u001b[39mattrib[\u001b[39m'\u001b[39m\u001b[39msecurityIDType\u001b[39m\u001b[39m'\u001b[39m]),\n\u001b[1;32m    113\u001b[0m         CUSIP \u001b[39m=\u001b[39m valueOrNone(node\u001b[39m.\u001b[39mattrib[\u001b[39m'\u001b[39m\u001b[39mcusip\u001b[39m\u001b[39m'\u001b[39m]),\n\u001b[1;32m    114\u001b[0m         ISIN \u001b[39m=\u001b[39m node\u001b[39m.\u001b[39mattrib[\u001b[39m'\u001b[39m\u001b[39misin\u001b[39m\u001b[39m'\u001b[39m],\n\u001b[1;32m    115\u001b[0m         FIGI \u001b[39m=\u001b[39m node\u001b[39m.\u001b[39mattrib[\u001b[39m'\u001b[39m\u001b[39mfigi\u001b[39m\u001b[39m'\u001b[39m],\n\u001b[1;32m    116\u001b[0m         ListingExchange \u001b[39m=\u001b[39m node\u001b[39m.\u001b[39mattrib[\u001b[39m'\u001b[39m\u001b[39mlistingExchange\u001b[39m\u001b[39m'\u001b[39m],\n\u001b[1;32m    117\u001b[0m         UnderlyingConid \u001b[39m=\u001b[39m valueOrNone(node\u001b[39m.\u001b[39mattrib[\u001b[39m'\u001b[39m\u001b[39munderlyingConid\u001b[39m\u001b[39m'\u001b[39m]),\n\u001b[1;32m    118\u001b[0m         UnderlyingSymbol \u001b[39m=\u001b[39m valueOrNone(node\u001b[39m.\u001b[39mattrib[\u001b[39m'\u001b[39m\u001b[39munderlyingSymbol\u001b[39m\u001b[39m'\u001b[39m]),\n\u001b[1;32m    119\u001b[0m         UnderlyingSecurityID \u001b[39m=\u001b[39m valueOrNone(node\u001b[39m.\u001b[39mattrib[\u001b[39m'\u001b[39m\u001b[39munderlyingSecurityID\u001b[39m\u001b[39m'\u001b[39m]),\n\u001b[1;32m    120\u001b[0m         UnderlyingListingExchange \u001b[39m=\u001b[39m valueOrNone(node\u001b[39m.\u001b[39mattrib[\u001b[39m'\u001b[39m\u001b[39munderlyingListingExchange\u001b[39m\u001b[39m'\u001b[39m]),\n\u001b[1;32m    121\u001b[0m         Issuer \u001b[39m=\u001b[39m valueOrNone(node\u001b[39m.\u001b[39mattrib[\u001b[39m'\u001b[39m\u001b[39missuer\u001b[39m\u001b[39m'\u001b[39m]),\n\u001b[1;32m    122\u001b[0m         IssuerCountryCode \u001b[39m=\u001b[39m valueOrNone(node\u001b[39m.\u001b[39mattrib[\u001b[39m'\u001b[39m\u001b[39missuerCountryCode\u001b[39m\u001b[39m'\u001b[39m]),\n\u001b[1;32m    123\u001b[0m         TradeID \u001b[39m=\u001b[39m node\u001b[39m.\u001b[39mattrib[\u001b[39m'\u001b[39m\u001b[39mtradeID\u001b[39m\u001b[39m'\u001b[39m],\n\u001b[1;32m    124\u001b[0m         Multiplier \u001b[39m=\u001b[39m \u001b[39mfloat\u001b[39m(node\u001b[39m.\u001b[39mattrib[\u001b[39m'\u001b[39m\u001b[39mmultiplier\u001b[39m\u001b[39m'\u001b[39m]),\n\u001b[1;32m    125\u001b[0m         RelatedTradeID \u001b[39m=\u001b[39m node\u001b[39m.\u001b[39mattrib[\u001b[39m'\u001b[39m\u001b[39mrelatedTradeID\u001b[39m\u001b[39m'\u001b[39m],\n\u001b[1;32m    126\u001b[0m         Strike \u001b[39m=\u001b[39m \u001b[39mfloat\u001b[39m(node\u001b[39m.\u001b[39mattrib[\u001b[39m'\u001b[39m\u001b[39mstrike\u001b[39m\u001b[39m'\u001b[39m]) \u001b[39mif\u001b[39;00m node\u001b[39m.\u001b[39mattrib[\u001b[39m'\u001b[39m\u001b[39mstrike\u001b[39m\u001b[39m'\u001b[39m] \u001b[39m!=\u001b[39m \u001b[39m\"\u001b[39m\u001b[39m\"\u001b[39m \u001b[39melse\u001b[39;00m \u001b[39mNone\u001b[39;00m,\n\u001b[1;32m    127\u001b[0m         ReportDate \u001b[39m=\u001b[39m safeDateParse(node\u001b[39m.\u001b[39mattrib[\u001b[39m'\u001b[39m\u001b[39mreportDate\u001b[39m\u001b[39m'\u001b[39m]),\n\u001b[1;32m    128\u001b[0m         Expiry \u001b[39m=\u001b[39m safeDateParse(node\u001b[39m.\u001b[39mattrib[\u001b[39m'\u001b[39m\u001b[39mexpiry\u001b[39m\u001b[39m'\u001b[39m]) \u001b[39mif\u001b[39;00m node\u001b[39m.\u001b[39mattrib[\u001b[39m'\u001b[39m\u001b[39mexpiry\u001b[39m\u001b[39m'\u001b[39m] \u001b[39m!=\u001b[39m \u001b[39m\"\u001b[39m\u001b[39m\"\u001b[39m \u001b[39melse\u001b[39;00m \u001b[39mNone\u001b[39;00m,\n\u001b[1;32m    129\u001b[0m         DateTime \u001b[39m=\u001b[39m safeDateParse(node\u001b[39m.\u001b[39mattrib[\u001b[39m'\u001b[39m\u001b[39mdateTime\u001b[39m\u001b[39m'\u001b[39m]),\n\u001b[1;32m    130\u001b[0m         PutOrCall \u001b[39m=\u001b[39m valueOrNone(node\u001b[39m.\u001b[39mattrib[\u001b[39m'\u001b[39m\u001b[39mputCall\u001b[39m\u001b[39m'\u001b[39m]),\n\u001b[1;32m    131\u001b[0m         TradeDate \u001b[39m=\u001b[39m safeDateParse(node\u001b[39m.\u001b[39mattrib[\u001b[39m'\u001b[39m\u001b[39mtradeDate\u001b[39m\u001b[39m'\u001b[39m]),\n\u001b[1;32m    132\u001b[0m         PrincipalAdjustFactor \u001b[39m=\u001b[39m floatValueOrNone(node\u001b[39m.\u001b[39mattrib[\u001b[39m'\u001b[39m\u001b[39mprincipalAdjustFactor\u001b[39m\u001b[39m'\u001b[39m]),\n\u001b[1;32m    133\u001b[0m         SettleDateTarget \u001b[39m=\u001b[39m safeDateParse(node\u001b[39m.\u001b[39mattrib[\u001b[39m'\u001b[39m\u001b[39msettleDateTarget\u001b[39m\u001b[39m'\u001b[39m]),\n\u001b[1;32m    134\u001b[0m         TransactionType \u001b[39m=\u001b[39m s\u001b[39m.\u001b[39mTransactionType(node\u001b[39m.\u001b[39mattrib[\u001b[39m'\u001b[39m\u001b[39mtransactionType\u001b[39m\u001b[39m'\u001b[39m]),\n\u001b[1;32m    135\u001b[0m         Exchange \u001b[39m=\u001b[39m valueOrNone(node\u001b[39m.\u001b[39mattrib[\u001b[39m'\u001b[39m\u001b[39mexchange\u001b[39m\u001b[39m'\u001b[39m]),\n\u001b[1;32m    136\u001b[0m         Quantity \u001b[39m=\u001b[39m \u001b[39mfloat\u001b[39m(node\u001b[39m.\u001b[39mattrib[\u001b[39m'\u001b[39m\u001b[39mquantity\u001b[39m\u001b[39m'\u001b[39m]),\n\u001b[1;32m    137\u001b[0m         TradePrice \u001b[39m=\u001b[39m \u001b[39mfloat\u001b[39m(node\u001b[39m.\u001b[39mattrib[\u001b[39m'\u001b[39m\u001b[39mtradePrice\u001b[39m\u001b[39m'\u001b[39m]),\n\u001b[1;32m    138\u001b[0m         TradeMoney \u001b[39m=\u001b[39m \u001b[39mfloat\u001b[39m(node\u001b[39m.\u001b[39mattrib[\u001b[39m'\u001b[39m\u001b[39mtradeMoney\u001b[39m\u001b[39m'\u001b[39m]),\n\u001b[1;32m    139\u001b[0m         Proceeds \u001b[39m=\u001b[39m \u001b[39mfloat\u001b[39m(node\u001b[39m.\u001b[39mattrib[\u001b[39m'\u001b[39m\u001b[39mproceeds\u001b[39m\u001b[39m'\u001b[39m]),\n\u001b[1;32m    140\u001b[0m         Taxes \u001b[39m=\u001b[39m \u001b[39mfloat\u001b[39m(node\u001b[39m.\u001b[39mattrib[\u001b[39m'\u001b[39m\u001b[39mtaxes\u001b[39m\u001b[39m'\u001b[39m]),\n\u001b[1;32m    141\u001b[0m         IBCommission \u001b[39m=\u001b[39m \u001b[39mfloat\u001b[39m(node\u001b[39m.\u001b[39mattrib[\u001b[39m'\u001b[39m\u001b[39mibCommission\u001b[39m\u001b[39m'\u001b[39m]),\n\u001b[1;32m    142\u001b[0m         IBCommissionCurrency \u001b[39m=\u001b[39m node\u001b[39m.\u001b[39mattrib[\u001b[39m'\u001b[39m\u001b[39mibCommissionCurrency\u001b[39m\u001b[39m'\u001b[39m],\n\u001b[1;32m    143\u001b[0m         NetCash \u001b[39m=\u001b[39m \u001b[39mfloat\u001b[39m(node\u001b[39m.\u001b[39mattrib[\u001b[39m'\u001b[39m\u001b[39mnetCash\u001b[39m\u001b[39m'\u001b[39m]),\n\u001b[1;32m    144\u001b[0m         NetCashInBase \u001b[39m=\u001b[39m \u001b[39mfloat\u001b[39m(node\u001b[39m.\u001b[39mattrib[\u001b[39m'\u001b[39m\u001b[39mnetCashInBase\u001b[39m\u001b[39m'\u001b[39m]),\n\u001b[1;32m    145\u001b[0m         ClosePrice \u001b[39m=\u001b[39m \u001b[39mfloat\u001b[39m(node\u001b[39m.\u001b[39mattrib[\u001b[39m'\u001b[39m\u001b[39mclosePrice\u001b[39m\u001b[39m'\u001b[39m]),\n\u001b[1;32m    146\u001b[0m         OpenCloseIndicator \u001b[39m=\u001b[39m s\u001b[39m.\u001b[39mOpenCloseIndicator(node\u001b[39m.\u001b[39mattrib[\u001b[39m'\u001b[39m\u001b[39mopenCloseIndicator\u001b[39m\u001b[39m'\u001b[39m]),\n\u001b[1;32m    147\u001b[0m         NotesAndCodes \u001b[39m=\u001b[39m notesAndCodesParsed,\n\u001b[1;32m    148\u001b[0m         CostBasis \u001b[39m=\u001b[39m \u001b[39mfloat\u001b[39m(node\u001b[39m.\u001b[39mattrib[\u001b[39m'\u001b[39m\u001b[39mcost\u001b[39m\u001b[39m'\u001b[39m]),\n\u001b[1;32m    149\u001b[0m         FifoProfitAndLossRealized \u001b[39m=\u001b[39m \u001b[39mfloat\u001b[39m(node\u001b[39m.\u001b[39mattrib[\u001b[39m'\u001b[39m\u001b[39mfifoPnlRealized\u001b[39m\u001b[39m'\u001b[39m]),\n\u001b[1;32m    150\u001b[0m         CapitalGainsProfitAndLoss \u001b[39m=\u001b[39m \u001b[39mfloat\u001b[39m(node\u001b[39m.\u001b[39mattrib[\u001b[39m'\u001b[39m\u001b[39mcapitalGainsPnl\u001b[39m\u001b[39m'\u001b[39m]),\n\u001b[1;32m    151\u001b[0m         ForexProfitAndLoss \u001b[39m=\u001b[39m \u001b[39mfloat\u001b[39m(node\u001b[39m.\u001b[39mattrib[\u001b[39m'\u001b[39m\u001b[39mfxPnl\u001b[39m\u001b[39m'\u001b[39m]),\n\u001b[1;32m    152\u001b[0m         MarketToMarketProfitAndLoss \u001b[39m=\u001b[39m \u001b[39mfloat\u001b[39m(node\u001b[39m.\u001b[39mattrib[\u001b[39m'\u001b[39m\u001b[39mmtmPnl\u001b[39m\u001b[39m'\u001b[39m]),\n\u001b[1;32m    153\u001b[0m         OrigTradePrice \u001b[39m=\u001b[39m \u001b[39mfloat\u001b[39m(node\u001b[39m.\u001b[39mattrib[\u001b[39m'\u001b[39m\u001b[39morigTradePrice\u001b[39m\u001b[39m'\u001b[39m]),\n\u001b[1;32m    154\u001b[0m         OrigTradeDate \u001b[39m=\u001b[39m dateValueOrNone(node\u001b[39m.\u001b[39mattrib[\u001b[39m'\u001b[39m\u001b[39morigTradeDate\u001b[39m\u001b[39m'\u001b[39m]),\n\u001b[1;32m    155\u001b[0m         OrigTradeID \u001b[39m=\u001b[39m valueOrNone(node\u001b[39m.\u001b[39mattrib[\u001b[39m'\u001b[39m\u001b[39morigTradeID\u001b[39m\u001b[39m'\u001b[39m]),\n\u001b[1;32m    156\u001b[0m         OrigOrderID \u001b[39m=\u001b[39m node\u001b[39m.\u001b[39mattrib[\u001b[39m'\u001b[39m\u001b[39morigOrderID\u001b[39m\u001b[39m'\u001b[39m],\n\u001b[1;32m    157\u001b[0m         OrigTransactionID \u001b[39m=\u001b[39m node\u001b[39m.\u001b[39mattrib[\u001b[39m'\u001b[39m\u001b[39morigTransactionID\u001b[39m\u001b[39m'\u001b[39m],\n\u001b[1;32m    158\u001b[0m         BuyOrSell \u001b[39m=\u001b[39m s\u001b[39m.\u001b[39mBuyOrSell(node\u001b[39m.\u001b[39mattrib[\u001b[39m'\u001b[39m\u001b[39mbuySell\u001b[39m\u001b[39m'\u001b[39m]),\n\u001b[1;32m    159\u001b[0m         ClearingFirmID \u001b[39m=\u001b[39m valueOrNone(node\u001b[39m.\u001b[39mattrib[\u001b[39m'\u001b[39m\u001b[39mclearingFirmID\u001b[39m\u001b[39m'\u001b[39m]),\n\u001b[1;32m    160\u001b[0m         IBOrderID \u001b[39m=\u001b[39m node\u001b[39m.\u001b[39mattrib[\u001b[39m'\u001b[39m\u001b[39mibOrderID\u001b[39m\u001b[39m'\u001b[39m],\n\u001b[1;32m    161\u001b[0m         TransactionID \u001b[39m=\u001b[39m node\u001b[39m.\u001b[39mattrib[\u001b[39m'\u001b[39m\u001b[39mtransactionID\u001b[39m\u001b[39m'\u001b[39m],\n\u001b[1;32m    162\u001b[0m         IBExecID \u001b[39m=\u001b[39m node\u001b[39m.\u001b[39mattrib[\u001b[39m'\u001b[39m\u001b[39mibExecID\u001b[39m\u001b[39m'\u001b[39m],\n\u001b[1;32m    163\u001b[0m         RelatedTransactionID \u001b[39m=\u001b[39m valueOrNone(node\u001b[39m.\u001b[39mattrib[\u001b[39m'\u001b[39m\u001b[39mrelatedTransactionID\u001b[39m\u001b[39m'\u001b[39m]),\n\u001b[1;32m    164\u001b[0m         BrokerageOrderID \u001b[39m=\u001b[39m node\u001b[39m.\u001b[39mattrib[\u001b[39m'\u001b[39m\u001b[39mbrokerageOrderID\u001b[39m\u001b[39m'\u001b[39m],\n\u001b[1;32m    165\u001b[0m         OrderReference \u001b[39m=\u001b[39m valueOrNone(node\u001b[39m.\u001b[39mattrib[\u001b[39m'\u001b[39m\u001b[39morderReference\u001b[39m\u001b[39m'\u001b[39m]),\n\u001b[1;32m    166\u001b[0m         VolatilityOrderLink \u001b[39m=\u001b[39m valueOrNone(node\u001b[39m.\u001b[39mattrib[\u001b[39m'\u001b[39m\u001b[39mvolatilityOrderLink\u001b[39m\u001b[39m'\u001b[39m]),\n\u001b[1;32m    167\u001b[0m         ExchOrderID \u001b[39m=\u001b[39m node\u001b[39m.\u001b[39mattrib[\u001b[39m'\u001b[39m\u001b[39mexchOrderId\u001b[39m\u001b[39m'\u001b[39m] \u001b[39mif\u001b[39;00m node\u001b[39m.\u001b[39mattrib[\u001b[39m'\u001b[39m\u001b[39mexchOrderId\u001b[39m\u001b[39m'\u001b[39m] \u001b[39m!=\u001b[39m \u001b[39m\"\u001b[39m\u001b[39mN/A\u001b[39m\u001b[39m\"\u001b[39m \u001b[39melse\u001b[39;00m \u001b[39mNone\u001b[39;00m,\n\u001b[1;32m    168\u001b[0m         ExtExecID \u001b[39m=\u001b[39m node\u001b[39m.\u001b[39mattrib[\u001b[39m'\u001b[39m\u001b[39mextExecID\u001b[39m\u001b[39m'\u001b[39m],\n\u001b[1;32m    169\u001b[0m         OrderTime \u001b[39m=\u001b[39m safeDateParse(node\u001b[39m.\u001b[39mattrib[\u001b[39m'\u001b[39m\u001b[39morderTime\u001b[39m\u001b[39m'\u001b[39m]),\n\u001b[1;32m    170\u001b[0m         OpenDateTime \u001b[39m=\u001b[39m dateValueOrNone(node\u001b[39m.\u001b[39mattrib[\u001b[39m'\u001b[39m\u001b[39mopenDateTime\u001b[39m\u001b[39m'\u001b[39m]),\n\u001b[1;32m    171\u001b[0m         HoldingPeriodDateTime \u001b[39m=\u001b[39m dateValueOrNone(node\u001b[39m.\u001b[39mattrib[\u001b[39m'\u001b[39m\u001b[39mholdingPeriodDateTime\u001b[39m\u001b[39m'\u001b[39m]),\n\u001b[1;32m    172\u001b[0m         WhenRealized \u001b[39m=\u001b[39m dateValueOrNone(node\u001b[39m.\u001b[39mattrib[\u001b[39m'\u001b[39m\u001b[39mwhenRealized\u001b[39m\u001b[39m'\u001b[39m]),\n\u001b[1;32m    173\u001b[0m         WhenReopened \u001b[39m=\u001b[39m dateValueOrNone(node\u001b[39m.\u001b[39mattrib[\u001b[39m'\u001b[39m\u001b[39mwhenReopened\u001b[39m\u001b[39m'\u001b[39m]),\n\u001b[1;32m    174\u001b[0m         LevelOfDetail \u001b[39m=\u001b[39m s\u001b[39m.\u001b[39mLevelOfDetail(node\u001b[39m.\u001b[39mattrib[\u001b[39m'\u001b[39m\u001b[39mlevelOfDetail\u001b[39m\u001b[39m'\u001b[39m]),\n\u001b[1;32m    175\u001b[0m         ChangeInPrice \u001b[39m=\u001b[39m \u001b[39mfloat\u001b[39m(node\u001b[39m.\u001b[39mattrib[\u001b[39m'\u001b[39m\u001b[39mchangeInPrice\u001b[39m\u001b[39m'\u001b[39m]),\n\u001b[1;32m    176\u001b[0m         ChangeInQuantity \u001b[39m=\u001b[39m \u001b[39mfloat\u001b[39m(node\u001b[39m.\u001b[39mattrib[\u001b[39m'\u001b[39m\u001b[39mchangeInQuantity\u001b[39m\u001b[39m'\u001b[39m]),\n\u001b[0;32m--> 177\u001b[0m         OrderType \u001b[39m=\u001b[39m s\u001b[39m.\u001b[39;49mOrderType(node\u001b[39m.\u001b[39;49mattrib[\u001b[39m'\u001b[39;49m\u001b[39morderType\u001b[39;49m\u001b[39m'\u001b[39;49m]),\n\u001b[1;32m    178\u001b[0m         TraderID \u001b[39m=\u001b[39m valueOrNone(node\u001b[39m.\u001b[39mattrib[\u001b[39m'\u001b[39m\u001b[39mtraderID\u001b[39m\u001b[39m'\u001b[39m]),\n\u001b[1;32m    179\u001b[0m         IsAPIOrder \u001b[39m=\u001b[39m \u001b[39mstr\u001b[39m(node\u001b[39m.\u001b[39mattrib[\u001b[39m'\u001b[39m\u001b[39mtraderID\u001b[39m\u001b[39m'\u001b[39m])\u001b[39m.\u001b[39mlower() \u001b[39m==\u001b[39m \u001b[39m'\u001b[39m\u001b[39my\u001b[39m\u001b[39m'\u001b[39m,\n\u001b[1;32m    180\u001b[0m         AccruedInterest \u001b[39m=\u001b[39m \u001b[39mfloat\u001b[39m(node\u001b[39m.\u001b[39mattrib[\u001b[39m'\u001b[39m\u001b[39maccruedInt\u001b[39m\u001b[39m'\u001b[39m]),\n\u001b[1;32m    181\u001b[0m         SerialNumber \u001b[39m=\u001b[39m valueOrNone(node\u001b[39m.\u001b[39mattrib[\u001b[39m'\u001b[39m\u001b[39mserialNumber\u001b[39m\u001b[39m'\u001b[39m]),\n\u001b[1;32m    182\u001b[0m         DeliveryType \u001b[39m=\u001b[39m valueOrNone(node\u001b[39m.\u001b[39mattrib[\u001b[39m'\u001b[39m\u001b[39mdeliveryType\u001b[39m\u001b[39m'\u001b[39m]),\n\u001b[1;32m    183\u001b[0m         CommodityType \u001b[39m=\u001b[39m valueOrNone(node\u001b[39m.\u001b[39mattrib[\u001b[39m'\u001b[39m\u001b[39mcommodityType\u001b[39m\u001b[39m'\u001b[39m]),\n\u001b[1;32m    184\u001b[0m         Fineness \u001b[39m=\u001b[39m \u001b[39mfloat\u001b[39m(node\u001b[39m.\u001b[39mattrib[\u001b[39m'\u001b[39m\u001b[39mfineness\u001b[39m\u001b[39m'\u001b[39m]),\n\u001b[1;32m    185\u001b[0m         Weight \u001b[39m=\u001b[39m \u001b[39mfloat\u001b[39m(node\u001b[39m.\u001b[39mattrib[\u001b[39m'\u001b[39m\u001b[39mweight\u001b[39m\u001b[39m'\u001b[39m])\n\u001b[1;32m    186\u001b[0m   )\n",
      "File \u001b[0;32m/usr/lib/python3.11/enum.py:712\u001b[0m, in \u001b[0;36mEnumType.__call__\u001b[0;34m(cls, value, names, module, qualname, type, start, boundary)\u001b[0m\n\u001b[1;32m    687\u001b[0m \u001b[39m\u001b[39m\u001b[39m\"\"\"\u001b[39;00m\n\u001b[1;32m    688\u001b[0m \u001b[39mEither returns an existing member, or creates a new enum class.\u001b[39;00m\n\u001b[1;32m    689\u001b[0m \n\u001b[0;32m   (...)\u001b[0m\n\u001b[1;32m    709\u001b[0m \u001b[39m`type`, if set, will be mixed in as the first base class.\u001b[39;00m\n\u001b[1;32m    710\u001b[0m \u001b[39m\"\"\"\u001b[39;00m\n\u001b[1;32m    711\u001b[0m \u001b[39mif\u001b[39;00m names \u001b[39mis\u001b[39;00m \u001b[39mNone\u001b[39;00m:  \u001b[39m# simple value lookup\u001b[39;00m\n\u001b[0;32m--> 712\u001b[0m     \u001b[39mreturn\u001b[39;00m \u001b[39mcls\u001b[39;49m\u001b[39m.\u001b[39;49m\u001b[39m__new__\u001b[39;49m(\u001b[39mcls\u001b[39;49m, value)\n\u001b[1;32m    713\u001b[0m \u001b[39m# otherwise, functional API: we're creating a new Enum type\u001b[39;00m\n\u001b[1;32m    714\u001b[0m \u001b[39mreturn\u001b[39;00m \u001b[39mcls\u001b[39m\u001b[39m.\u001b[39m_create_(\n\u001b[1;32m    715\u001b[0m         value,\n\u001b[1;32m    716\u001b[0m         names,\n\u001b[0;32m   (...)\u001b[0m\n\u001b[1;32m    721\u001b[0m         boundary\u001b[39m=\u001b[39mboundary,\n\u001b[1;32m    722\u001b[0m         )\n",
      "File \u001b[0;32m/usr/lib/python3.11/enum.py:1135\u001b[0m, in \u001b[0;36mEnum.__new__\u001b[0;34m(cls, value)\u001b[0m\n\u001b[1;32m   1133\u001b[0m ve_exc \u001b[39m=\u001b[39m \u001b[39mValueError\u001b[39;00m(\u001b[39m\"\u001b[39m\u001b[39m%r\u001b[39;00m\u001b[39m is not a valid \u001b[39m\u001b[39m%s\u001b[39;00m\u001b[39m\"\u001b[39m \u001b[39m%\u001b[39m (value, \u001b[39mcls\u001b[39m\u001b[39m.\u001b[39m\u001b[39m__qualname__\u001b[39m))\n\u001b[1;32m   1134\u001b[0m \u001b[39mif\u001b[39;00m result \u001b[39mis\u001b[39;00m \u001b[39mNone\u001b[39;00m \u001b[39mand\u001b[39;00m exc \u001b[39mis\u001b[39;00m \u001b[39mNone\u001b[39;00m:\n\u001b[0;32m-> 1135\u001b[0m     \u001b[39mraise\u001b[39;00m ve_exc\n\u001b[1;32m   1136\u001b[0m \u001b[39melif\u001b[39;00m exc \u001b[39mis\u001b[39;00m \u001b[39mNone\u001b[39;00m:\n\u001b[1;32m   1137\u001b[0m     exc \u001b[39m=\u001b[39m \u001b[39mTypeError\u001b[39;00m(\n\u001b[1;32m   1138\u001b[0m             \u001b[39m'\u001b[39m\u001b[39merror in \u001b[39m\u001b[39m%s\u001b[39;00m\u001b[39m._missing_: returned \u001b[39m\u001b[39m%r\u001b[39;00m\u001b[39m instead of None or a valid member\u001b[39m\u001b[39m'\u001b[39m\n\u001b[1;32m   1139\u001b[0m             \u001b[39m%\u001b[39m (\u001b[39mcls\u001b[39m\u001b[39m.\u001b[39m\u001b[39m__name__\u001b[39m, result)\n\u001b[1;32m   1140\u001b[0m             )\n",
      "\u001b[0;31mValueError\u001b[0m: 'MKT' is not a valid OrderType"
     ]
    }
   ],
   "source": [
    "import ReportingStrategies.Slovenia.ReportGeneration as sir\n",
    "\n",
    "\n",
    "def loadFileAndExtractLines(file: str):\n",
    "    fileLocation = os.path.join(reportsDirectory, file)\n",
    "    \n",
    "    with open(fileLocation) as fobj:\n",
    "        xml = fobj.read()\n",
    "\n",
    "    root = etree.fromstring(xml)\n",
    "    transactions = ibrk.extractTradesFromXML(root)\n",
    "    return transactions\n",
    "\n",
    "brokerReports = list(map(loadFileAndExtractLines, brokerExports))\n",
    "\n",
    "convertedCommonFormat = ibrkMapper.getGenericTradeLinesFromIBRKTrades(brokerReports[0])\n",
    "\n",
    "print(convertedCommonFormat)\n",
    "\n",
    "\n",
    "# tradeReport = sir.EDavkiTradesReport(reportConfig=reportconfig, taxPayerInfo=taxPayerInfo)"
   ]
  }
 ],
 "metadata": {
  "kernelspec": {
   "display_name": ".venv",
   "language": "python",
   "name": "python3"
  },
  "language_info": {
   "codemirror_mode": {
    "name": "ipython",
    "version": 3
   },
   "file_extension": ".py",
   "mimetype": "text/x-python",
   "name": "python",
   "nbconvert_exporter": "python",
   "pygments_lexer": "ipython3",
   "version": "3.11.6"
  }
 },
 "nbformat": 4,
 "nbformat_minor": 2
}
