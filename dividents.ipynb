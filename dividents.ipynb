{
 "cells": [
  {
   "cell_type": "code",
   "execution_count": null,
   "metadata": {},
   "outputs": [],
   "source": [
    "from IPython import get_ipython\n",
    "ip = get_ipython()\n",
    "ip.run_line_magic(\"reload_ext\", \"autoreload\")  # these will enable module autoreloading\n",
    "ip.run_line_magic(\"autoreload\", \"2\")"
   ]
  },
  {
   "cell_type": "markdown",
   "metadata": {},
   "source": [
    "### Load in Exports"
   ]
  },
  {
   "cell_type": "code",
   "execution_count": null,
   "metadata": {},
   "outputs": [],
   "source": [
    "import os\n",
    "from lxml import etree\n",
    "import BrokerageExportProviders.Brokerages.IBKR.IbkrBrokerageExportProvider as ibrk\n",
    "import ConfigurationProvider.Configuration as conf\n",
    "import Core.StagingFinancialEvents.Services.StagingFinancialGroupingProcessor as sgp\n",
    "import Core.StagingFinancialEvents.Utils.ProcessingUtils as pu\n",
    "import arrow\n",
    "import TaxAuthorityProvider.TaxAuthorities.Slovenia.SlovenianTaxAuthorityProvider as tap\n",
    "import TaxAuthorityProvider.TaxAuthorities.Slovenia.Schemas.ReportTypes as rt\n",
    "import TaxAuthorityProvider.Schemas.Configuration as cf\n",
    "\n",
    "rootOfProject = os.getcwd()\n",
    "\n",
    "reportsDirectory = os.path.join(rootOfProject, \"imports\")\n",
    "generatedDirectory = os.path.join(rootOfProject, \"exports\")\n",
    "configDirectory = os.path.join(rootOfProject, \"config\")\n",
    "\n",
    "configProvider = conf.ConfigurationProvider(configDirectory)\n",
    "taxPayerInfo = configProvider.getConfig()\n",
    "\n",
    "ibkrProvider = ibrk.IbkrBrokerageExportProvider()\n",
    "brokerExports = ibkrProvider.getListOfReportsAvailableForBroker(reportsDirectory)\n",
    "print(brokerExports)\n",
    "\n",
    "\n",
    "\n",
    "def loadFileAndExtractLines(file: str):  \n",
    "    transactions = ibkrProvider.getBrokerEventsForReport(file)\n",
    "    return transactions\n",
    "\n",
    "brokerReports = list(map(loadFileAndExtractLines, brokerExports))\n",
    "mergedReports = ibkrProvider.mergeBrokerEvents(brokerReports)"
   ]
  },
  {
   "cell_type": "markdown",
   "metadata": {},
   "source": [
    "### Process Broker Exports"
   ]
  },
  {
   "cell_type": "code",
   "execution_count": null,
   "metadata": {},
   "outputs": [],
   "source": [
    "convertedCommonFormat = ibkrProvider.transformBrokerEventsToBrokerAgnosticEvents(mergedReports)\n",
    "groupingProcessor = sgp.StagingFinancialGroupingProcessor(pu.ProcessingUtils())\n",
    "\n",
    "converted = groupingProcessor.generateGenericGroupings(convertedCommonFormat)"
   ]
  },
  {
   "cell_type": "markdown",
   "metadata": {},
   "source": [
    "### Dividends Reports"
   ]
  },
  {
   "cell_type": "code",
   "execution_count": null,
   "metadata": {},
   "outputs": [],
   "source": [
    "reportconfig = cf.TaxAuthorityConfiguration(fromDate=arrow.get(\"2022\"), toDate=arrow.get(\"2023\"))\n",
    "provider = tap.SlovenianTaxAuthorityProvider(taxPayerInfo=taxPayerInfo, reportConfig=reportconfig)\n",
    "tradeReport = provider.generateExportForTaxAuthority(reportType=rt.SlovenianTaxAuthorityReportTypes.DOH_DIV, data=converted)\n",
    "\n",
    "\n",
    "tradeCsv = provider.generateSpreadsheetExport(reportType=rt.SlovenianTaxAuthorityReportTypes.DOH_DIV, data=converted)\n",
    "tradeCsv.to_csv(os.path.join(generatedDirectory, 'export-dividends.csv'), index=False)\n",
    "\n",
    "etree.ElementTree(tradeReport).write(os.path.join(generatedDirectory, \"Doh_Div_3.xml\"), xml_declaration=True, encoding='utf-8', pretty_print=True)"
   ]
  },
  {
   "cell_type": "markdown",
   "metadata": {},
   "source": [
    "### Stock Trades"
   ]
  },
  {
   "cell_type": "code",
   "execution_count": null,
   "metadata": {},
   "outputs": [],
   "source": [
    "reportconfig = cf.TaxAuthorityConfiguration(fromDate=arrow.get(\"2022\"), toDate=arrow.get(\"2023\"))\n",
    "\n",
    "# print(convertedCommonFormat)\n",
    "provider = tap.SlovenianTaxAuthorityProvider(taxPayerInfo=taxPayerInfo, reportConfig=reportconfig)\n",
    "tradeReport = provider.generateExportForTaxAuthority(reportType=rt.SlovenianTaxAuthorityReportTypes.DOH_KDVP, data=converted)\n",
    "\n",
    "\n",
    "tradeCsv = provider.generateSpreadsheetExport(reportType=rt.SlovenianTaxAuthorityReportTypes.DOH_KDVP, data=converted)\n",
    "tradeCsv.to_csv(os.path.join(generatedDirectory, 'export-trades.csv'), index=False)\n",
    "\n",
    "etree.ElementTree(tradeReport).write(os.path.join(generatedDirectory, \"Doh_KDVP_9.xml\"), xml_declaration=True, encoding='utf-8', pretty_print=True)"
   ]
  },
  {
   "cell_type": "markdown",
   "metadata": {},
   "source": [
    "### Derivatives Report"
   ]
  },
  {
   "cell_type": "code",
   "execution_count": null,
   "metadata": {},
   "outputs": [],
   "source": [
    "reportconfig = cf.TaxAuthorityConfiguration(fromDate=arrow.get(\"2022\"), toDate=arrow.get(\"2023\"))\n",
    "\n",
    "# print(convertedCommonFormat)\n",
    "provider = tap.SlovenianTaxAuthorityProvider(taxPayerInfo=taxPayerInfo, reportConfig=reportconfig)\n",
    "\n",
    "tradeCsv = provider.generateSpreadsheetExport(reportType=rt.SlovenianTaxAuthorityReportTypes.D_IFI, data=converted)\n",
    "tradeCsv.to_csv(os.path.join(generatedDirectory, 'export-derivatives.csv'), index=False)\n",
    "\n",
    "tradeReport = provider.generateExportForTaxAuthority(reportType=rt.SlovenianTaxAuthorityReportTypes.D_IFI, data=converted)\n",
    "etree.ElementTree(tradeReport).write(os.path.join(generatedDirectory, \"D_IFI_4.xml\"), xml_declaration=True, encoding='utf-8', pretty_print=True)"
   ]
  }
 ],
 "metadata": {
  "language_info": {
   "name": "python"
  }
 },
 "nbformat": 4,
 "nbformat_minor": 2
}
