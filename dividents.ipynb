{
 "cells": [
  {
   "cell_type": "code",
   "execution_count": 1,
   "metadata": {},
   "outputs": [],
   "source": [
    "from IPython import get_ipython\n",
    "ip = get_ipython()\n",
    "ip.run_line_magic(\"reload_ext\", \"autoreload\")  # these will enable module autoreloading\n",
    "ip.run_line_magic(\"autoreload\", \"2\")"
   ]
  },
  {
   "cell_type": "markdown",
   "metadata": {},
   "source": [
    "### Get List of Reports Available"
   ]
  },
  {
   "cell_type": "code",
   "execution_count": 2,
   "metadata": {},
   "outputs": [
    {
     "name": "stdout",
     "output_type": "stream",
     "text": [
      "['Tax_Relevant_Export_2022.xml']\n"
     ]
    },
    {
     "name": "stderr",
     "output_type": "stream",
     "text": [
      "404 Client Error: Not Found for url: https://query2.finance.yahoo.com/v10/finance/quoteSummary/?modules=financialData%2CquoteType%2CdefaultKeyStatistics%2CassetProfile%2CsummaryDetail&corsDomain=finance.yahoo.com&formatted=false&symbol=&crumb=.%2FXbPNe%2Fz4P\n"
     ]
    },
    {
     "name": "stdout",
     "output_type": "stream",
     "text": [
      "Failed online lookup of ISIN (US9663875089), falling back to hardcoded company definitions\n",
      "Failed online lookup of ISIN (US9663875089), falling back to hardcoded company definitions\n"
     ]
    }
   ],
   "source": [
    "import os\n",
    "from glob import glob\n",
    "import ExportProvider.IBRK.Extract as ibrk\n",
    "from lxml import etree\n",
    "from ReportingStrategies.Slovenia.ReportGeneration import EDavkiReportWrapper\n",
    "from ReportingStrategies.Slovenia.ReportGeneration import EDavkiDividendReport\n",
    "import ReportingStrategies.Slovenia.Mappers.IBRK as ibrkMapper\n",
    "from Common.Configuration import TaxPayerInfo\n",
    "from Common.Configuration import TaxPayerType\n",
    "from Common.Configuration import ReportBaseConfig\n",
    "from arrow import Arrow\n",
    "import arrow\n",
    "\n",
    "rootOfProject = os.getcwd()\n",
    "\n",
    "reportsDirectory = os.path.join(rootOfProject, \"BrokerExports\")\n",
    "generatedDirectory = os.path.join(rootOfProject, \"GeneratedReports\")\n",
    "\n",
    "brokerExports = glob(\"*.xml\", root_dir=reportsDirectory)\n",
    "print(brokerExports)\n",
    "\n",
    "\n",
    "def loadFileAndExtractLines(file: str):\n",
    "    fileLocation = os.path.join(reportsDirectory, file)\n",
    "    \n",
    "    with open(fileLocation) as fobj:\n",
    "        xml = fobj.read()\n",
    "\n",
    "    root = etree.fromstring(xml)\n",
    "    transactions = ibrk.extractCashTransactionFromXML(root)\n",
    "    return transactions\n",
    "\n",
    "brokerReports = list(map(loadFileAndExtractLines, brokerExports))\n",
    "mergedReports = ibrk.mergeCashTransactions(brokerReports)\n",
    "\n",
    "taxPayerInfo = TaxPayerInfo(\n",
    "    taxNumber = \"davcna\",\n",
    "    taxpayerType = TaxPayerType.PHYSICAL_SUBJECT,\n",
    "    name = \"ime priimek\",\n",
    "    address1 = \"naslov\",\n",
    "    address2 = None,\n",
    "    city = \"mesto\",\n",
    "    postNumber = \"postna #\",\n",
    "    postName = \"posta\",\n",
    "    municipalityName = \"obcina\",\n",
    "    birthDate = Arrow.now(),\n",
    "    maticnaStevilka = \"emsa\",\n",
    "    invalidskoPodjetje = False,\n",
    "    resident = True,\n",
    "    activityCode = \"\",\n",
    "    activityName = \"\",\n",
    "    countryID = \"SI\",\n",
    "    countryName = \"Slovenia\"\n",
    ")\n",
    "basicReport = EDavkiReportWrapper(taxPayerInfo)\n",
    "envelope = basicReport.createReportEnvelope()\n",
    "\n",
    "\n",
    "reportconfig = ReportBaseConfig(fromDate=arrow.get(\"2022\"), toDate=arrow.get(\"2023\"))\n",
    "dividendReport = EDavkiDividendReport(reportConfig=reportconfig, taxPayerInfo=taxPayerInfo)\n",
    "\n",
    "convertedCommonFormat = ibrkMapper.getGenericDividendLineFromIBRKCashTransactions(mergedReports)\n",
    "\n",
    "csvReport = dividendReport.generateDataFrameReport(convertedCommonFormat)\n",
    "csvReport.to_csv(os.path.join(generatedDirectory, 'export.csv'), index=False)\n",
    "\n",
    "xmlReport = dividendReport.generateXmlReport(convertedCommonFormat, envelope)\n",
    "\n",
    "\n",
    "etree.ElementTree(xmlReport).write(os.path.join(generatedDirectory, \"Doh_Div_3.xml\"), xml_declaration=True, encoding='utf-8', pretty_print=True)\n",
    "\n"
   ]
  },
  {
   "cell_type": "markdown",
   "metadata": {},
   "source": [
    "### Stock Trades"
   ]
  },
  {
   "cell_type": "code",
   "execution_count": 26,
   "metadata": {},
   "outputs": [],
   "source": [
    "import ReportingStrategies.Slovenia.ReportGeneration as sir\n",
    "\n",
    "\n",
    "def loadFileAndExtractLines(file: str):\n",
    "    fileLocation = os.path.join(reportsDirectory, file)\n",
    "    \n",
    "    with open(fileLocation) as fobj:\n",
    "        xml = fobj.read()\n",
    "\n",
    "    root = etree.fromstring(xml)\n",
    "    transactions = ibrk.extractTradesFromXML(root)\n",
    "    return transactions\n",
    "\n",
    "brokerReports = list(map(loadFileAndExtractLines, brokerExports))\n",
    "\n",
    "convertedCommonFormat = ibrkMapper.getGenericTradeLinesFromIBRKTrades(brokerReports[0])\n",
    "\n",
    "# print(convertedCommonFormat)\n",
    "\n",
    "\n",
    "tradeReport = sir.EDavkiTradesReport(reportConfig=reportconfig, taxPayerInfo=taxPayerInfo)\n",
    "\n",
    "tradeCsv = tradeReport.generateDataFrameReport(convertedCommonFormat)\n",
    "tradeCsv.to_csv(os.path.join(generatedDirectory, 'export-trades.csv'), index=False)\n"
   ]
  }
 ],
 "metadata": {
  "kernelspec": {
   "display_name": ".venv",
   "language": "python",
   "name": "python3"
  },
  "language_info": {
   "codemirror_mode": {
    "name": "ipython",
    "version": 3
   },
   "file_extension": ".py",
   "mimetype": "text/x-python",
   "name": "python",
   "nbconvert_exporter": "python",
   "pygments_lexer": "ipython3",
   "version": "3.11.6"
  }
 },
 "nbformat": 4,
 "nbformat_minor": 2
}
