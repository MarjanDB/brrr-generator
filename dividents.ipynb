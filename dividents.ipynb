{
 "cells": [
  {
   "cell_type": "code",
   "execution_count": 1,
   "metadata": {},
   "outputs": [],
   "source": [
    "from IPython import get_ipython\n",
    "ip = get_ipython()\n",
    "ip.run_line_magic(\"reload_ext\", \"autoreload\")  # these will enable module autoreloading\n",
    "ip.run_line_magic(\"autoreload\", \"2\")"
   ]
  },
  {
   "cell_type": "markdown",
   "metadata": {},
   "source": [
    "### Get List of Reports Available"
   ]
  },
  {
   "cell_type": "code",
   "execution_count": 2,
   "metadata": {},
   "outputs": [
    {
     "name": "stdout",
     "output_type": "stream",
     "text": [
      "['Tax_Relevant_Export_2023.xml', 'Tax_Relevant_Export_2022.xml']\n"
     ]
    }
   ],
   "source": [
    "import os\n",
    "from glob import glob\n",
    "import src.ExportProvider.IBRK.Extract as ibrk\n",
    "from lxml import etree\n",
    "import src.ReportingStrategies.Slovenia.ReportGeneration as sir\n",
    "import src.ReportingStrategies.Slovenia.Mappers.IBRK as ibrkMapper\n",
    "import src.ConfigurationProvider.Configuration as conf\n",
    "from arrow import Arrow\n",
    "import arrow\n",
    "\n",
    "rootOfProject = os.getcwd()\n",
    "\n",
    "reportsDirectory = os.path.join(rootOfProject, \"imports\")\n",
    "generatedDirectory = os.path.join(rootOfProject, \"exports\")\n",
    "configDirectory = os.path.join(rootOfProject, \"config\")\n",
    "\n",
    "configProvider = conf.ConfigurationProvider(configDirectory)\n",
    "taxPayerInfo = configProvider.getConfig()\n",
    "\n",
    "brokerExports = glob(\"*.xml\", root_dir=reportsDirectory)\n",
    "print(brokerExports)\n",
    "\n",
    "\n",
    "def loadFileAndExtractLines(file: str):\n",
    "    fileLocation = os.path.join(reportsDirectory, file)\n",
    "    \n",
    "    with open(fileLocation) as fobj:\n",
    "        xml = fobj.read()\n",
    "\n",
    "    root = etree.fromstring(xml)\n",
    "    transactions = ibrk.extractFromXML(root)\n",
    "    return transactions\n",
    "\n",
    "brokerReports = list(map(loadFileAndExtractLines, brokerExports))\n",
    "mergedReports = ibrk.mergeTrades(brokerReports)\n",
    "\n",
    "\n",
    "\n",
    "\n",
    "reportconfig = sir.EDavkiReportConfig(fromDate=arrow.get(\"2023\"), toDate=arrow.get(\"2024\"), ReportType=sir.EDavkiDocumentWorkflowType.SELF_REPORT)\n",
    "\n",
    "dividendReport = sir.EDavkiDividendReport(reportConfig=reportconfig, taxPayerInfo=taxPayerInfo)\n",
    "envelope = dividendReport.createReportEnvelope()\n",
    "\n",
    "convertedCommonFormat = ibrkMapper.getGenericDividendLineFromIBRKCashTransactions(mergedReports.cashTransactions)\n",
    "\n",
    "csvReport = dividendReport.generateDataFrameReport(convertedCommonFormat)\n",
    "csvReport.to_csv(os.path.join(generatedDirectory, 'export.csv'), index=False)\n",
    "\n",
    "xmlReport = dividendReport.generateXmlReport(convertedCommonFormat, envelope)\n",
    "\n",
    "\n",
    "etree.ElementTree(xmlReport).write(os.path.join(generatedDirectory, \"Doh_Div_3.xml\"), xml_declaration=True, encoding='utf-8', pretty_print=True)\n",
    "\n"
   ]
  },
  {
   "cell_type": "markdown",
   "metadata": {},
   "source": [
    "### Stock Trades"
   ]
  },
  {
   "cell_type": "code",
   "execution_count": 10,
   "metadata": {},
   "outputs": [
    {
     "name": "stdout",
     "output_type": "stream",
     "text": [
      "US22052L1044\n",
      "DE0005190003\n",
      "DE000A0LAUP1\n",
      "FR0010208488\n",
      "FR0000120271\n",
      "DE000WAF3001\n",
      "CA0156581070\n",
      "US6742152076\n",
      "MHY1146L1258\n",
      "US91851C2017\n",
      "US2908462037\n",
      "MHY2685T1313\n",
      "US40434L1052\n",
      "US30303M1027\n",
      "US7475251036\n",
      "US7982411057\n",
      "MHY8900D1085\n",
      "\n"
     ]
    },
    {
     "ename": "ValueError",
     "evalue": "Could not find matching sell",
     "output_type": "error",
     "traceback": [
      "\u001b[0;31m---------------------------------------------------------------------------\u001b[0m",
      "\u001b[0;31mValueError\u001b[0m                                Traceback (most recent call last)",
      "\u001b[1;32m/mnt/extra/Projects/IB-tax-calculator/dividents.ipynb Cell 5\u001b[0m line \u001b[0;36m1\n\u001b[1;32m     <a href='vscode-notebook-cell:/mnt/extra/Projects/IB-tax-calculator/dividents.ipynb#W4sZmlsZQ%3D%3D?line=15'>16</a>\u001b[0m brokerReports \u001b[39m=\u001b[39m \u001b[39mlist\u001b[39m(\u001b[39mmap\u001b[39m(loadFileAndExtractLines, brokerExports))\n\u001b[1;32m     <a href='vscode-notebook-cell:/mnt/extra/Projects/IB-tax-calculator/dividents.ipynb#W4sZmlsZQ%3D%3D?line=16'>17</a>\u001b[0m mergedReports \u001b[39m=\u001b[39m ibrk\u001b[39m.\u001b[39mmergeTrades(brokerReports)\n\u001b[0;32m---> <a href='vscode-notebook-cell:/mnt/extra/Projects/IB-tax-calculator/dividents.ipynb#W4sZmlsZQ%3D%3D?line=18'>19</a>\u001b[0m convertedCommonFormat \u001b[39m=\u001b[39m ibrkMapper\u001b[39m.\u001b[39;49mgetGenericTradeLinesFromIBRKTrades(mergedReports)\n\u001b[1;32m     <a href='vscode-notebook-cell:/mnt/extra/Projects/IB-tax-calculator/dividents.ipynb#W4sZmlsZQ%3D%3D?line=20'>21</a>\u001b[0m \u001b[39m# print(convertedCommonFormat)\u001b[39;00m\n\u001b[1;32m     <a href='vscode-notebook-cell:/mnt/extra/Projects/IB-tax-calculator/dividents.ipynb#W4sZmlsZQ%3D%3D?line=21'>22</a>\u001b[0m tradeReport \u001b[39m=\u001b[39m sir\u001b[39m.\u001b[39mEDavkiTradesReport(reportConfig\u001b[39m=\u001b[39mreportconfig, taxPayerInfo\u001b[39m=\u001b[39mtaxPayerInfo)\n",
      "File \u001b[0;32m/mnt/extra/Projects/IB-tax-calculator/src/ReportingStrategies/Slovenia/Mappers/IBRK.py:295\u001b[0m, in \u001b[0;36mgetGenericTradeLinesFromIBRKTrades\u001b[0;34m(trades)\u001b[0m\n\u001b[1;32m    292\u001b[0m genericTradeReportItems : \u001b[39mlist\u001b[39m[gf\u001b[39m.\u001b[39mGenericTradeReportItem] \u001b[39m=\u001b[39m \u001b[39mlist\u001b[39m()\n\u001b[1;32m    294\u001b[0m \u001b[39mfor\u001b[39;00m isin, tradeLots \u001b[39min\u001b[39;00m isinSegmented\u001b[39m.\u001b[39mitems():\n\u001b[0;32m--> 295\u001b[0m     lotsByAssetClass \u001b[39m=\u001b[39m createReportsForIsin(isin, tradeLots, allTrades)\n\u001b[1;32m    296\u001b[0m     genericTradeReportItems \u001b[39m=\u001b[39m genericTradeReportItems \u001b[39m+\u001b[39m lotsByAssetClass\n\u001b[1;32m    299\u001b[0m \u001b[39mreturn\u001b[39;00m genericTradeReportItems\n",
      "File \u001b[0;32m/mnt/extra/Projects/IB-tax-calculator/src/ReportingStrategies/Slovenia/Mappers/IBRK.py:285\u001b[0m, in \u001b[0;36mgetGenericTradeLinesFromIBRKTrades.<locals>.createReportsForIsin\u001b[0;34m(isin, lots, allTrades)\u001b[0m\n\u001b[1;32m    283\u001b[0m \u001b[39mfor\u001b[39;00m assetClass, classLots \u001b[39min\u001b[39;00m segmentedByAssetClass\u001b[39m.\u001b[39mitems():\n\u001b[1;32m    284\u001b[0m     relevantTrades \u001b[39m=\u001b[39m getTradesForIsin(allTrades\u001b[39m=\u001b[39mallTrades, isin\u001b[39m=\u001b[39misin)\n\u001b[0;32m--> 285\u001b[0m     report \u001b[39m=\u001b[39m createReportForIsinAssetClass(isin, assetClass, classLots, relevantTrades)\n\u001b[1;32m    286\u001b[0m     lines\u001b[39m.\u001b[39mappend(report)\n\u001b[1;32m    287\u001b[0m \u001b[39mreturn\u001b[39;00m lines\n",
      "File \u001b[0;32m/mnt/extra/Projects/IB-tax-calculator/src/ReportingStrategies/Slovenia/Mappers/IBRK.py:266\u001b[0m, in \u001b[0;36mgetGenericTradeLinesFromIBRKTrades.<locals>.createReportForIsinAssetClass\u001b[0;34m(isin, assetClass, lotsForAssetClass, allTradesForIsin)\u001b[0m\n\u001b[1;32m    252\u001b[0m ticker \u001b[39m=\u001b[39m firstLotForInfo\u001b[39m.\u001b[39mSymbol\n\u001b[1;32m    254\u001b[0m tickerInfo \u001b[39m=\u001b[39m gf\u001b[39m.\u001b[39mGenericTradeReportItem(\n\u001b[1;32m    255\u001b[0m     InventoryListType \u001b[39m=\u001b[39m TRADE_REPORT_ITEM_TYPE_MAPPING[assetClass],\n\u001b[1;32m    256\u001b[0m     ISIN \u001b[39m=\u001b[39m isin,\n\u001b[0;32m   (...)\u001b[0m\n\u001b[1;32m    263\u001b[0m     Lines \u001b[39m=\u001b[39m []\n\u001b[1;32m    264\u001b[0m )\n\u001b[0;32m--> 266\u001b[0m lotMatches \u001b[39m=\u001b[39m matchTradesWithLots(lotsForAssetClass, allTradesForIsin)\n\u001b[1;32m    268\u001b[0m lotMatchesWithUpdatedWashSaleInformation \u001b[39m=\u001b[39m determineWashSales(lotMatches, allTradesForIsin)\n\u001b[1;32m    270\u001b[0m segmentedTrades \u001b[39m=\u001b[39m segmentBuyAndSellTradesWithQuantity(lotMatchesWithUpdatedWashSaleInformation)\n",
      "File \u001b[0;32m/mnt/extra/Projects/IB-tax-calculator/src/ReportingStrategies/Slovenia/Mappers/IBRK.py:172\u001b[0m, in \u001b[0;36mgetGenericTradeLinesFromIBRKTrades.<locals>.matchTradesWithLots\u001b[0;34m(lots, trades)\u001b[0m\n\u001b[1;32m    163\u001b[0m     genericLot \u001b[39m=\u001b[39m gf\u001b[39m.\u001b[39mGenericTradeReportLotMatches(\n\u001b[1;32m    164\u001b[0m         TransactionID \u001b[39m=\u001b[39m lotTransactionId,\n\u001b[1;32m    165\u001b[0m         Quantitiy \u001b[39m=\u001b[39m lot\u001b[39m.\u001b[39mQuantity,\n\u001b[1;32m    166\u001b[0m         LotOriginalBuy \u001b[39m=\u001b[39m buyLine,\n\u001b[1;32m    167\u001b[0m         LotOriginalSell \u001b[39m=\u001b[39m sellLine\n\u001b[1;32m    168\u001b[0m     )\n\u001b[1;32m    170\u001b[0m     \u001b[39mreturn\u001b[39;00m genericLot\n\u001b[0;32m--> 172\u001b[0m genericLotMatches \u001b[39m=\u001b[39m \u001b[39mlist\u001b[39;49m(\u001b[39mmap\u001b[39;49m(\u001b[39mlambda\u001b[39;49;00m lot: createLotMatchFromLot(lot, trades), lots))\n\u001b[1;32m    173\u001b[0m \u001b[39mreturn\u001b[39;00m genericLotMatches\n",
      "File \u001b[0;32m/mnt/extra/Projects/IB-tax-calculator/src/ReportingStrategies/Slovenia/Mappers/IBRK.py:172\u001b[0m, in \u001b[0;36mgetGenericTradeLinesFromIBRKTrades.<locals>.matchTradesWithLots.<locals>.<lambda>\u001b[0;34m(lot)\u001b[0m\n\u001b[1;32m    163\u001b[0m     genericLot \u001b[39m=\u001b[39m gf\u001b[39m.\u001b[39mGenericTradeReportLotMatches(\n\u001b[1;32m    164\u001b[0m         TransactionID \u001b[39m=\u001b[39m lotTransactionId,\n\u001b[1;32m    165\u001b[0m         Quantitiy \u001b[39m=\u001b[39m lot\u001b[39m.\u001b[39mQuantity,\n\u001b[1;32m    166\u001b[0m         LotOriginalBuy \u001b[39m=\u001b[39m buyLine,\n\u001b[1;32m    167\u001b[0m         LotOriginalSell \u001b[39m=\u001b[39m sellLine\n\u001b[1;32m    168\u001b[0m     )\n\u001b[1;32m    170\u001b[0m     \u001b[39mreturn\u001b[39;00m genericLot\n\u001b[0;32m--> 172\u001b[0m genericLotMatches \u001b[39m=\u001b[39m \u001b[39mlist\u001b[39m(\u001b[39mmap\u001b[39m(\u001b[39mlambda\u001b[39;00m lot: createLotMatchFromLot(lot, trades), lots))\n\u001b[1;32m    173\u001b[0m \u001b[39mreturn\u001b[39;00m genericLotMatches\n",
      "File \u001b[0;32m/mnt/extra/Projects/IB-tax-calculator/src/ReportingStrategies/Slovenia/Mappers/IBRK.py:151\u001b[0m, in \u001b[0;36mgetGenericTradeLinesFromIBRKTrades.<locals>.matchTradesWithLots.<locals>.createLotMatchFromLot\u001b[0;34m(lot, trades)\u001b[0m\n\u001b[1;32m    149\u001b[0m matchingSell \u001b[39m=\u001b[39m getTradeOnDateTime(trades, sellDate)\n\u001b[1;32m    150\u001b[0m \u001b[39mif\u001b[39;00m matchingSell \u001b[39mis\u001b[39;00m \u001b[39mNone\u001b[39;00m:\n\u001b[0;32m--> 151\u001b[0m     \u001b[39mraise\u001b[39;00m \u001b[39mValueError\u001b[39;00m(\u001b[39m\"\u001b[39m\u001b[39mCould not find matching sell\u001b[39m\u001b[39m\"\u001b[39m)\n\u001b[1;32m    153\u001b[0m sellLine \u001b[39m=\u001b[39m gf\u001b[39m.\u001b[39mGenericTradeReportItemSecurityLineSold(\n\u001b[1;32m    154\u001b[0m     SoldDate \u001b[39m=\u001b[39m sellDate,\n\u001b[1;32m    155\u001b[0m     NumberOfUnitsSold \u001b[39m=\u001b[39m matchingSell\u001b[39m.\u001b[39mQuantity\u001b[39m.\u001b[39m\u001b[39m__abs__\u001b[39m(),\n\u001b[0;32m   (...)\u001b[0m\n\u001b[1;32m    160\u001b[0m     SoldForProfit \u001b[39m=\u001b[39m \u001b[39mTrue\u001b[39;00m\n\u001b[1;32m    161\u001b[0m )\n\u001b[1;32m    163\u001b[0m genericLot \u001b[39m=\u001b[39m gf\u001b[39m.\u001b[39mGenericTradeReportLotMatches(\n\u001b[1;32m    164\u001b[0m     TransactionID \u001b[39m=\u001b[39m lotTransactionId,\n\u001b[1;32m    165\u001b[0m     Quantitiy \u001b[39m=\u001b[39m lot\u001b[39m.\u001b[39mQuantity,\n\u001b[1;32m    166\u001b[0m     LotOriginalBuy \u001b[39m=\u001b[39m buyLine,\n\u001b[1;32m    167\u001b[0m     LotOriginalSell \u001b[39m=\u001b[39m sellLine\n\u001b[1;32m    168\u001b[0m )\n",
      "\u001b[0;31mValueError\u001b[0m: Could not find matching sell"
     ]
    }
   ],
   "source": [
    "\n",
    "\n",
    "\n",
    "def loadFileAndExtractLines(file: str):\n",
    "    fileLocation = os.path.join(reportsDirectory, file)\n",
    "    \n",
    "    with open(fileLocation) as fobj:\n",
    "        xml = fobj.read()\n",
    "\n",
    "    root = etree.fromstring(xml)\n",
    "    transactions = ibrk.extractFromXML(root)\n",
    "    return transactions\n",
    "\n",
    "reportconfig = sir.EDavkiReportConfig(fromDate=arrow.get(\"2023\"), toDate=arrow.get(\"2024\"), ReportType=sir.EDavkiDocumentWorkflowType.SELF_REPORT)\n",
    "\n",
    "brokerReports = list(map(loadFileAndExtractLines, brokerExports))\n",
    "mergedReports = ibrk.mergeTrades(brokerReports)\n",
    "\n",
    "convertedCommonFormat = ibrkMapper.getGenericTradeLinesFromIBRKTrades(mergedReports)\n",
    "\n",
    "# print(convertedCommonFormat)\n",
    "tradeReport = sir.EDavkiTradesReport(reportConfig=reportconfig, taxPayerInfo=taxPayerInfo)\n",
    "envelope = tradeReport.createReportEnvelope()\n",
    "\n",
    "\n",
    "tradeCsv = tradeReport.generateDataFrameReport(convertedCommonFormat)\n",
    "tradeCsv.to_csv(os.path.join(generatedDirectory, 'export-trades.csv'), index=False)\n",
    "\n",
    "\n",
    "\n",
    "xmlReport = tradeReport.generateXmlReport(convertedCommonFormat, envelope)\n",
    "\n",
    "\n",
    "etree.ElementTree(xmlReport).write(os.path.join(generatedDirectory, \"Doh_KDVP_9.xml\"), xml_declaration=True, encoding='utf-8', pretty_print=True)\n"
   ]
  }
 ],
 "metadata": {
  "kernelspec": {
   "display_name": ".venv",
   "language": "python",
   "name": "python3"
  },
  "language_info": {
   "codemirror_mode": {
    "name": "ipython",
    "version": 3
   },
   "file_extension": ".py",
   "mimetype": "text/x-python",
   "name": "python",
   "nbconvert_exporter": "python",
   "pygments_lexer": "ipython3",
   "version": "3.11.6"
  }
 },
 "nbformat": 4,
 "nbformat_minor": 2
}
