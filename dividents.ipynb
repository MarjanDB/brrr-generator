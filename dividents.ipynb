{
 "cells": [
  {
   "cell_type": "code",
   "execution_count": 11,
   "metadata": {},
   "outputs": [],
   "source": [
    "from IPython import get_ipython\n",
    "ip = get_ipython()\n",
    "ip.run_line_magic(\"reload_ext\", \"autoreload\")  # these will enable module autoreloading\n",
    "ip.run_line_magic(\"autoreload\", \"2\")"
   ]
  },
  {
   "cell_type": "markdown",
   "metadata": {},
   "source": [
    "### Get List of Reports Available"
   ]
  },
  {
   "cell_type": "code",
   "execution_count": 12,
   "metadata": {},
   "outputs": [
    {
     "name": "stdout",
     "output_type": "stream",
     "text": [
      "['CashTransactions_2022.csv']\n",
      "Failed online lookup of ISIN (US9663875089), falling back to hardcoded company definitions\n",
      "Failed online lookup of ISIN (US9663875089), falling back to hardcoded company definitions\n"
     ]
    }
   ],
   "source": [
    "import os\n",
    "from glob import glob\n",
    "import pandas as pd\n",
    "from ExportProvider.IBRK.ExportReports.CashTransactions import CashTransactionReport\n",
    "from ExportProvider.IBRK.ExportReports.CashTransactions import CashTransactionType\n",
    "from ReportingStrategies.Slovenia.DividendsReport import DividendsReport\n",
    "import ExportProvider.IBRK.Mappers.CashTransactions as ibrk\n",
    "\n",
    "rootOfProject = os.getcwd()\n",
    "\n",
    "reportsDirectory = os.path.join(rootOfProject, \"BrokerExports\")\n",
    "generatedDirectory = os.path.join(rootOfProject, \"GeneratedReports\")\n",
    "\n",
    "cashReportsfiles = glob(\"CashTransactions_*.csv\", root_dir=reportsDirectory)\n",
    "print(cashReportsfiles)\n",
    "\n",
    "\n",
    "def loadFileAndConvertToReport(file: str):\n",
    "    fileLocation = os.path.join(reportsDirectory, file)\n",
    "    loaded = pd.read_csv(fileLocation)\n",
    "    loaded = loaded.rename(columns={\"Put/Call\":\"PutSlashCall\",\"Date/Time\":\"DateAndTime\"})\n",
    "\n",
    "    # find DateTime in first column, as that marks CurrencyConversion start\n",
    "    dateTimeIndex = loaded[loaded['ClientAccountID'] == 'Date/Time'].index[0]\n",
    "\n",
    "    goodRows = loaded[:dateTimeIndex].itertuples(name=\"Row\", index=False)\n",
    "\n",
    "    report = CashTransactionReport(goodRows)\n",
    "    return report\n",
    "\n",
    "cashReports = list(map(loadFileAndConvertToReport, cashReportsfiles))\n",
    "\n",
    "mergedReports = CashTransactionReport.mergeCashTransactionReports(cashReports)\n",
    "\n",
    "\n",
    "dividends = mergedReports.getTransactionRowsOfType(CashTransactionType.Dividends)\n",
    "taxes = mergedReports.getTransactionRowsOfType(CashTransactionType.WITHOLDING_TAX)\n",
    "\n",
    "dividends = list(map(ibrk.convertDividendCashTransactionRowToDividend, dividends))\n",
    "taxes = list(map(ibrk.convertWitheldTaxCashTransactionRowToWitheldTax, taxes))\n",
    "\n",
    "dividendReport = DividendsReport(dividends, taxes)\n",
    "\n",
    "reported = dividendReport.getDividentReportDataFrame()\n",
    "\n",
    "reported.to_csv(os.path.join(generatedDirectory, 'export.csv'), index=False)\n",
    "\n"
   ]
  },
  {
   "cell_type": "markdown",
   "metadata": {},
   "source": [
    "## csv to XML"
   ]
  },
  {
   "cell_type": "code",
   "execution_count": 13,
   "metadata": {},
   "outputs": [],
   "source": [
    "from lxml import etree\n",
    "ns_edp = \"http://edavki.durs.si/Documents/Schemas/EDP-Common-1.xsd\"\n",
    "\n",
    "nsmap = {\n",
    "    None: \"http://edavki.durs.si/Documents/Schemas/Doh_Div_3.xsd\",\n",
    "    \"edp\": ns_edp,\n",
    "    \"xs\": \"http://www.w3.org/2001/XMLSchema\"\n",
    "}\n",
    "\n",
    "Envelope = etree.Element(\"Envelope\", {}, nsmap=nsmap)\n",
    "\n",
    "Header = etree.SubElement(Envelope, etree.QName(ns_edp, \"Header\"))\n",
    "Taxpayer = etree.SubElement(Header, etree.QName(ns_edp,\"taxpayer\"))\n",
    "etree.SubElement(Taxpayer, etree.QName(ns_edp, \"taxNumber\")).text = \"davčna\"\n",
    "etree.SubElement(Taxpayer, etree.QName(ns_edp, \"taxpayerType\")).text = \"FO\" # see EDP-Common-1 schema\n",
    "etree.SubElement(Taxpayer, etree.QName(ns_edp, \"name\")).text = \"ime priimek\"\n",
    "etree.SubElement(Taxpayer, etree.QName(ns_edp, \"address1\")).text = \"naslov\"\n",
    "etree.SubElement(Taxpayer, etree.QName(ns_edp, \"address2\")).text = \"\"\n",
    "etree.SubElement(Taxpayer, etree.QName(ns_edp, \"city\")).text = \"mesto\"\n",
    "etree.SubElement(Taxpayer, etree.QName(ns_edp, \"postNumber\")).text = \"pošna številka\"\n",
    "etree.SubElement(Taxpayer, etree.QName(ns_edp, \"postName\")).text = \"pošta\"\n",
    "etree.SubElement(Envelope, etree.QName(ns_edp, \"AttachmentList\"))\n",
    "etree.SubElement(Envelope, etree.QName(ns_edp, \"Signatures\"))\n",
    "\n",
    "workflow = etree.SubElement(Header, etree.QName(ns_edp, \"Workflow\"))\n",
    "etree.SubElement(workflow, etree.QName(ns_edp, \"DocumentWorkflowID\")).text = \"O\" # https://edavki.durs.si/EdavkiPortal/PersonalPortal/[360253]/Pages/Help/sl/WorkflowType1.htm\n",
    "\n",
    "body = etree.SubElement(Envelope, \"body\")\n",
    "# etree.SubElement(body, etree.QName(ns_edp, \"bodyContent\"))\n",
    "\n",
    "Doh_Div = etree.SubElement(body, \"Doh_Div\")\n",
    "etree.SubElement(Doh_Div, \"Period\").text = \"leto\"\n",
    "etree.SubElement(Doh_Div, \"EmailAddress\").text = \"email\"\n",
    "etree.SubElement(Doh_Div, \"PhoneNumber\").text = \"telefonska\"\n",
    "etree.SubElement(Doh_Div, \"ResidentCountry\").text = \"SI\"\n",
    "etree.SubElement(Doh_Div, \"IsResident\").text = \"true\"\n",
    "# etree.SubElement(Doh_Obr, \"Locked\").text = False\n",
    "# etree.SubElement(Doh_Obr, \"SelfReport\").text = False\n",
    "# etree.SubElement(Doh_Obr, \"WfTypeU\").text = False\n",
    "\n",
    "def transformDividendLineToXML(line: dict[str, str]):\n",
    "    dividendLine = etree.SubElement(body, \"Dividend\")\n",
    "    etree.SubElement(dividendLine, \"Date\").text = line['Datum prejema dividend']\n",
    "    etree.SubElement(dividendLine, \"PayerTaxNumber\").text = line['Davčna številka izplačevalca dividend']\n",
    "    etree.SubElement(dividendLine, \"PayerIdentificationNumber\").text = line['Identifikacijska številka izplačevalca dividend']\n",
    "    etree.SubElement(dividendLine, \"PayerName\").text = line['Naziv izplačevalca dividend']\n",
    "    etree.SubElement(dividendLine, \"PayerAddress\").text = line['Naslov izplačevalca dividend']\n",
    "    etree.SubElement(dividendLine, \"PayerCountry\").text = line['Država izplačevalca dividend']\n",
    "    etree.SubElement(dividendLine, \"Type\").text = line['Šifra vrste dividend']\n",
    "    etree.SubElement(dividendLine, \"Value\").text = str(line['Znesek dividend (v EUR)'])\n",
    "    etree.SubElement(dividendLine, \"ForeignTax\").text = str(line['Tuji davek (v EUR)'])\n",
    "    etree.SubElement(dividendLine, \"SourceCountry\").text = line['Država vira']\n",
    "    etree.SubElement(dividendLine, \"ReliefStatement\").text = line['Uveljavljam oprostitev po mednarodni pogodbi']\n",
    "\n",
    "dividendLines = reported.to_dict(\"records\")\n",
    "for line in dividendLines:\n",
    "    transformDividendLineToXML(line)    # type: ignore\n",
    "\n",
    "generatedDirectory = os.path.join(rootOfProject, \"GeneratedReports\")\n",
    "\n",
    "etree.ElementTree(Envelope).write(os.path.join(generatedDirectory, \"Doh_Div_3.xml\"), xml_declaration=True, encoding='utf-8', pretty_print=True)\n"
   ]
  }
 ],
 "metadata": {
  "kernelspec": {
   "display_name": ".venv",
   "language": "python",
   "name": "python3"
  },
  "language_info": {
   "codemirror_mode": {
    "name": "ipython",
    "version": 3
   },
   "file_extension": ".py",
   "mimetype": "text/x-python",
   "name": "python",
   "nbconvert_exporter": "python",
   "pygments_lexer": "ipython3",
   "version": "3.11.6"
  }
 },
 "nbformat": 4,
 "nbformat_minor": 2
}
