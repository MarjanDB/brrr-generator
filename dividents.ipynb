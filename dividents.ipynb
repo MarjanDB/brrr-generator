{
 "cells": [
  {
   "cell_type": "code",
   "execution_count": 1,
   "metadata": {},
   "outputs": [],
   "source": [
    "from IPython import get_ipython\n",
    "ip = get_ipython()\n",
    "ip.run_line_magic(\"reload_ext\", \"autoreload\")  # these will enable module autoreloading\n",
    "ip.run_line_magic(\"autoreload\", \"2\")"
   ]
  },
  {
   "cell_type": "markdown",
   "metadata": {},
   "source": [
    "### Load in Exports"
   ]
  },
  {
   "cell_type": "code",
   "execution_count": 2,
   "metadata": {},
   "outputs": [
    {
     "name": "stdout",
     "output_type": "stream",
     "text": [
      "['/mnt/extra/Projects/IB-tax-calculator/imports/Tax_Relevant_Export_2023.xml', '/mnt/extra/Projects/IB-tax-calculator/imports/Tax_Relevant_Export_2022.xml']\n"
     ]
    }
   ],
   "source": [
    "import os\n",
    "import src.BrokerageExportProviders.Brokerages.IBKR.IbkrBrokerageExportProvider as ibrk\n",
    "import src.TaxAuthorityProvider.TaxAuthorities.Slovenia.SlovenianTaxAuthorityProvider as sir\n",
    "import src.ConfigurationProvider.Configuration as conf\n",
    "import src.TaxAuthorityProvider.Utils.GenericUtilities as gu\n",
    "import arrow\n",
    "\n",
    "rootOfProject = os.getcwd()\n",
    "\n",
    "reportsDirectory = os.path.join(rootOfProject, \"imports\")\n",
    "generatedDirectory = os.path.join(rootOfProject, \"exports\")\n",
    "configDirectory = os.path.join(rootOfProject, \"config\")\n",
    "\n",
    "configProvider = conf.ConfigurationProvider(configDirectory)\n",
    "taxPayerInfo = configProvider.getConfig()\n",
    "\n",
    "ibkrProvider = ibrk.IbkrBrokerageExportProvider()\n",
    "brokerExports = ibkrProvider.getListOfReportsAvailableForBroker(reportsDirectory)\n",
    "print(brokerExports)\n",
    "\n",
    "\n",
    "\n",
    "def loadFileAndExtractLines(file: str):  \n",
    "    transactions = ibkrProvider.getBrokerEventsForReport(file)\n",
    "    return transactions\n",
    "\n",
    "brokerReports = list(map(loadFileAndExtractLines, brokerExports))\n",
    "mergedReports = ibkrProvider.mergeBrokerEvents(brokerReports)"
   ]
  },
  {
   "cell_type": "markdown",
   "metadata": {},
   "source": [
    "### Dividends Reports"
   ]
  },
  {
   "cell_type": "code",
   "execution_count": 7,
   "metadata": {},
   "outputs": [],
   "source": [
    "reportconfig = sir.EDavkiReportConfig(fromDate=arrow.get(\"2022\"), toDate=arrow.get(\"2023\"), ReportType=sir.EDavkiDocumentWorkflowType.ORIGINAL)\n",
    "\n",
    "dividendReport = sir.EDavkiDividendReport(reportConfig=reportconfig, taxPayerInfo=taxPayerInfo)\n",
    "envelope = dividendReport.createReportEnvelope()\n",
    "\n",
    "convertedCommonFormat = ibrkMapper.getGenericDividendLineFromIBRKCashTransactions(mergedReports.cashTransactions)\n",
    "\n",
    "csvReport = dividendReport.generateDataFrameReport(convertedCommonFormat)\n",
    "csvReport.to_csv(os.path.join(generatedDirectory, 'export.csv'), index=False)\n",
    "\n",
    "xmlReport = dividendReport.generateXmlReport(convertedCommonFormat, envelope)\n",
    "\n",
    "\n",
    "etree.ElementTree(xmlReport).write(os.path.join(generatedDirectory, \"Doh_Div_3.xml\"), xml_declaration=True, encoding='utf-8', pretty_print=True)\n",
    "\n"
   ]
  },
  {
   "cell_type": "markdown",
   "metadata": {},
   "source": [
    "### Stock Trades"
   ]
  },
  {
   "cell_type": "code",
   "execution_count": 3,
   "metadata": {},
   "outputs": [
    {
     "name": "stdout",
     "output_type": "stream",
     "text": [
      "Processing stock lot (ID: 497227221)\n",
      "Matched Buy with trade (ID: 497227221, DateTime: 2023-05-08T03:02:11-04:00)\n",
      "Matched Sell with trade (ID: 623345521, DateTime: 2023-11-27T03:02:01-05:00)\n",
      "Processing stock lot (ID: 535739081)\n",
      "Matched Buy with trade (ID: 535739081, DateTime: 2023-07-10T03:02:08-04:00)\n",
      "Matched Sell with trade (ID: 623345521, DateTime: 2023-11-27T03:02:01-05:00)\n",
      "Processing stock lot (ID: 354534284)\n",
      "Matched Buy with trade (ID: 354534284, DateTime: 2022-09-01T06:40:09-04:00)\n",
      "Matched Sell with trade (ID: 623345521, DateTime: 2023-11-27T03:02:01-05:00)\n",
      "Processing stock lot (ID: 354537668)\n",
      "Matched Buy with trade (ID: 354537668, DateTime: 2022-09-01T07:08:48-04:00)\n",
      "Matched Sell with trade (ID: 623345521, DateTime: 2023-11-27T03:02:01-05:00)\n",
      "Processing stock lot (ID: 354536022)\n",
      "Matched Buy with trade (ID: 354536022, DateTime: 2022-09-01T07:01:55-04:00)\n",
      "Matched Sell with trade (ID: 623345521, DateTime: 2023-11-27T03:02:01-05:00)\n",
      "Processing stock lot (ID: 354535608)\n",
      "Matched Buy with trade (ID: 354535608, DateTime: 2022-09-01T06:55:28-04:00)\n",
      "Matched Sell with trade (ID: 623345521, DateTime: 2023-11-27T03:02:01-05:00)\n",
      "Processing stock lot (ID: 249237407)\n",
      "Matched Buy with trade (ID: 249237407, DateTime: 2022-03-04T14:52:53-05:00)\n",
      "Matched Sell with trade (ID: 317782557, DateTime: 2022-06-22T09:30:00-04:00)\n",
      "Processing stock lot (ID: 267443161)\n",
      "Matched Buy with trade (ID: 267443161, DateTime: 2022-03-31T12:57:43-04:00)\n",
      "Matched Sell with trade (ID: 317782557, DateTime: 2022-06-22T09:30:00-04:00)\n",
      "Processing stock lot (ID: 270406903)\n",
      "Matched Buy with trade (ID: 270406903, DateTime: 2022-04-05T15:06:58-04:00)\n",
      "Matched Sell with trade (ID: 317782557, DateTime: 2022-06-22T09:30:00-04:00)\n",
      "Processing stock lot (ID: 279696763)\n",
      "Matched Buy with trade (ID: 279696763, DateTime: 2022-04-20T12:34:24-04:00)\n",
      "Matched Sell with trade (ID: 317782557, DateTime: 2022-06-22T09:30:00-04:00)\n",
      "Processing stock lot (ID: 241041858)\n",
      "Matched Buy with trade (ID: 241041858, DateTime: 2022-02-22T08:20:17-05:00)\n",
      "Matched Sell with trade (ID: 527548087, DateTime: 2023-06-26T07:24:32-04:00)\n",
      "Processing stock lot (ID: 332927800)\n",
      "Matched Buy with trade (ID: 332927800, DateTime: 2022-07-21T10:04:50-04:00)\n",
      "Matched Sell with trade (ID: 634496258, DateTime: 2023-12-13T13:46:41-05:00)\n",
      "Processing stock lot (ID: 332927800)\n",
      "Matched Buy with trade (ID: 332927800, DateTime: 2022-07-21T10:04:50-04:00)\n",
      "Matched Sell with trade (ID: 634496325, DateTime: 2023-12-13T13:47:37-05:00)\n",
      "Processing stock lot (ID: 388273728)\n",
      "Matched Buy with trade (ID: 388273728, DateTime: 2022-11-02T14:20:02-04:00)\n",
      "Matched Sell with trade (ID: 634496325, DateTime: 2023-12-13T13:47:37-05:00)\n",
      "Processing stock lot (ID: 357523655)\n",
      "Matched Buy with trade (ID: 357523655, DateTime: 2022-09-07T09:36:20-04:00)\n",
      "Matched Sell with trade (ID: 634496325, DateTime: 2023-12-13T13:47:37-05:00)\n",
      "Processing stock lot (ID: 357523656)\n",
      "Matched Buy with trade (ID: 357523656, DateTime: 2022-09-07T09:36:20-04:00)\n",
      "Matched Sell with trade (ID: 634496325, DateTime: 2023-12-13T13:47:37-05:00)\n",
      "Processing stock lot (ID: 241256516)\n",
      "Matched Buy with trade (ID: 241256516, DateTime: 2022-02-22T14:49:56-05:00)\n",
      "Matched Sell with trade (ID: 340775329, DateTime: 2022-08-05T10:27:26-04:00)\n",
      "Processing stock lot (ID: 262737278)\n",
      "Matched Buy with trade (ID: 262737278, DateTime: 2022-03-24T11:36:00-04:00)\n",
      "Matched Sell with trade (ID: 340775329, DateTime: 2022-08-05T10:27:26-04:00)\n",
      "Processing stock lot (ID: 266504178)\n",
      "Matched Buy with trade (ID: 266504178, DateTime: 2022-03-30T12:28:51-04:00)\n",
      "Matched Sell with trade (ID: 340775329, DateTime: 2022-08-05T10:27:26-04:00)\n",
      "Processing stock lot (ID: 278841598)\n",
      "Matched Buy with trade (ID: 278841598, DateTime: 2022-04-19T14:19:24-04:00)\n",
      "Matched Sell with trade (ID: 340775329, DateTime: 2022-08-05T10:27:26-04:00)\n",
      "Processing stock lot (ID: 278841735)\n",
      "Matched Buy with trade (ID: 278841735, DateTime: 2022-04-19T14:20:00-04:00)\n",
      "Matched Sell with trade (ID: 340775329, DateTime: 2022-08-05T10:27:26-04:00)\n",
      "Processing stock lot (ID: 241234985)\n",
      "Matched Buy with trade (ID: 241234985, DateTime: 2022-02-22T14:11:01-05:00)\n",
      "Matched Sell with trade (ID: 262720557, DateTime: 2022-03-24T11:06:00-04:00)\n",
      "Processing stock lot (ID: 237973147)\n",
      "Matched Buy with trade (ID: 237973147, DateTime: 2022-02-16T14:53:03-05:00)\n",
      "Matched Sell with trade (ID: 264675411, DateTime: 2022-03-28T14:33:40-04:00)\n",
      "Processing stock lot (ID: 238740291)\n",
      "Matched Buy with trade (ID: 238740291, DateTime: 2022-02-17T10:48:21-05:00)\n",
      "Matched Sell with trade (ID: 264675411, DateTime: 2022-03-28T14:33:40-04:00)\n",
      "Processing stock lot (ID: 238740291)\n",
      "Matched Buy with trade (ID: 238740291, DateTime: 2022-02-17T10:48:21-05:00)\n",
      "Matched Sell with trade (ID: 264688122, DateTime: 2022-03-28T14:56:52-04:00)\n",
      "Processing stock lot (ID: 238740291)\n",
      "Matched Buy with trade (ID: 238740291, DateTime: 2022-02-17T10:48:21-05:00)\n",
      "Matched Sell with trade (ID: 264688122, DateTime: 2022-03-28T14:56:52-04:00)\n",
      "Processing stock lot (ID: 238740291)\n",
      "Matched Buy with trade (ID: 238740291, DateTime: 2022-02-17T10:48:21-05:00)\n",
      "Matched Sell with trade (ID: 264688122, DateTime: 2022-03-28T14:56:52-04:00)\n",
      "Processing stock lot (ID: 238740291)\n",
      "Matched Buy with trade (ID: 238740291, DateTime: 2022-02-17T10:48:21-05:00)\n",
      "Matched Sell with trade (ID: 289287021, DateTime: 2022-05-04T09:30:09-04:00)\n",
      "Processing stock lot (ID: 308675250)\n",
      "Matched Buy with trade (ID: 308675250, DateTime: 2022-06-06T13:58:20-04:00)\n",
      "Matched Sell with trade (ID: 414682639, DateTime: 2022-12-20T10:24:51-05:00)\n",
      "Processing stock lot (ID: 308684342)\n",
      "Matched Buy with trade (ID: 308684342, DateTime: 2022-06-06T14:21:45-04:00)\n",
      "Matched Sell with trade (ID: 537571052, DateTime: 2023-07-12T09:32:32-04:00)\n",
      "Processing stock lot (ID: 379819879)\n",
      "Matched Buy with trade (ID: 379819879, DateTime: 2022-10-18T11:14:12-04:00)\n",
      "Matched Sell with trade (ID: 537571052, DateTime: 2023-07-12T09:32:32-04:00)\n",
      "Processing stock lot (ID: 425497551)\n",
      "Matched Buy with trade (ID: 425497551, DateTime: 2023-01-10T10:48:41-05:00)\n",
      "Matched Sell with trade (ID: 546960621, DateTime: 2023-07-27T09:31:31-04:00)\n",
      "Processing stock lot (ID: 425497551)\n",
      "Matched Buy with trade (ID: 425497551, DateTime: 2023-01-10T10:48:41-05:00)\n",
      "Matched Sell with trade (ID: 546960621, DateTime: 2023-07-27T09:31:31-04:00)\n",
      "Processing stock lot (ID: 425497551)\n",
      "Matched Buy with trade (ID: 425497551, DateTime: 2023-01-10T10:48:41-05:00)\n",
      "Matched Sell with trade (ID: 546983972, DateTime: 2023-07-27T09:43:32-04:00)\n",
      "Processing stock lot (ID: 279721470)\n",
      "Matched Buy with trade (ID: 279721470, DateTime: 2022-04-20T13:32:15-04:00)\n",
      "Matched Sell with trade (ID: 624120894, DateTime: 2023-11-28T03:01:16-05:00)\n",
      "Processing stock lot (ID: 245174349)\n",
      "Matched Buy with trade (ID: 245174349, DateTime: 2022-02-28T10:23:05-05:00)\n",
      "Matched Sell with trade (ID: 267447712, DateTime: 2022-03-31T13:11:33-04:00)\n",
      "Processing stock lot (ID: 269211850)\n",
      "Matched Buy with trade (ID: 269211850, DateTime: 2022-04-04T09:43:10-04:00)\n",
      "Matched Sell with trade (ID: 442427271, DateTime: 2023-02-07T09:30:00-05:00)\n",
      "Processing stock lot (ID: 271335878)\n",
      "Matched Buy with trade (ID: 271335878, DateTime: 2022-04-06T14:34:38-04:00)\n",
      "Matched Sell with trade (ID: 442427271, DateTime: 2023-02-07T09:30:00-05:00)\n",
      "Processing stock lot (ID: 282666155)\n",
      "Matched Buy with trade (ID: 282666155, DateTime: 2022-04-25T15:45:12-04:00)\n",
      "Matched Sell with trade (ID: 442427271, DateTime: 2023-02-07T09:30:00-05:00)\n",
      "Processing stock lot (ID: 313373342)\n",
      "Matched Buy with trade (ID: 313373342, DateTime: 2022-06-14T10:07:53-04:00)\n",
      "Matched Sell with trade (ID: 442427271, DateTime: 2023-02-07T09:30:00-05:00)\n",
      "Processing stock lot (ID: 388274013)\n",
      "Matched Buy with trade (ID: 388274013, DateTime: 2022-11-02T14:21:27-04:00)\n",
      "Matched Sell with trade (ID: 442427271, DateTime: 2023-02-07T09:30:00-05:00)\n",
      "Processing stock lot (ID: 243182017)\n",
      "Matched Buy with trade (ID: 243182017, DateTime: 2022-02-24T11:16:34-05:00)\n",
      "Matched Sell with trade (ID: 267436755, DateTime: 2022-03-31T12:54:13-04:00)\n",
      "Processing stock lot (ID: 238813818)\n",
      "Matched Buy with trade (ID: 238813818, DateTime: 2022-02-17T13:29:43-05:00)\n",
      "Matched Sell with trade (ID: 267406411, DateTime: 2022-03-31T12:03:11-04:00)\n",
      "Processing stock lot (ID: 259223542)\n",
      "Failed processing stock lot (ID: 259223542, ISIN: FR0014008WS3), found no match\n"
     ]
    },
    {
     "ename": "LookupError",
     "evalue": "",
     "output_type": "error",
     "traceback": [
      "\u001b[0;31m---------------------------------------------------------------------------\u001b[0m",
      "\u001b[0;31mStopIteration\u001b[0m                             Traceback (most recent call last)",
      "File \u001b[0;32m/mnt/extra/Projects/IB-tax-calculator/src/ReportingStrategies/GenericUtilities.py:74\u001b[0m, in \u001b[0;36mGenericUtilities.processStockLot\u001b[0;34m(self, lot, allTrades)\u001b[0m\n\u001b[1;32m     73\u001b[0m \u001b[39mtry\u001b[39;00m:\n\u001b[0;32m---> 74\u001b[0m     matchingBuyById: gf\u001b[39m.\u001b[39mTradeEventStockAcquired \u001b[39m=\u001b[39m \u001b[39mself\u001b[39;49m\u001b[39m.\u001b[39;49mfindStockEventById(lot\u001b[39m.\u001b[39;49mAcquired\u001b[39m.\u001b[39;49mID \u001b[39mor\u001b[39;49;00m \u001b[39m\"\u001b[39;49m\u001b[39m\"\u001b[39;49m, allTrades)\n\u001b[1;32m     75\u001b[0m     matchingSoldByDate: gf\u001b[39m.\u001b[39mTradeEventStockSold \u001b[39m=\u001b[39m \u001b[39mself\u001b[39m\u001b[39m.\u001b[39mfindStockEventByDate(lot\u001b[39m.\u001b[39mSold\u001b[39m.\u001b[39mDateTime \u001b[39mor\u001b[39;00m ar\u001b[39m.\u001b[39mget(\u001b[39m\"\u001b[39m\u001b[39m1-0-0\u001b[39m\u001b[39m\"\u001b[39m), allTrades)[\u001b[39m0\u001b[39m]\n",
      "File \u001b[0;32m/mnt/extra/Projects/IB-tax-calculator/src/ReportingStrategies/GenericUtilities.py:21\u001b[0m, in \u001b[0;36mGenericUtilities.findStockEventById\u001b[0;34m(self, id, allStocks)\u001b[0m\n\u001b[1;32m     20\u001b[0m filtered \u001b[39m=\u001b[39m \u001b[39mfilter\u001b[39m(\u001b[39mlambda\u001b[39;00m trade: trade\u001b[39m.\u001b[39mID \u001b[39m==\u001b[39m \u001b[39mid\u001b[39m, allStocks)\n\u001b[0;32m---> 21\u001b[0m \u001b[39mreturn\u001b[39;00m \u001b[39mnext\u001b[39m(filtered)\n",
      "\u001b[0;31mStopIteration\u001b[0m: ",
      "\nDuring handling of the above exception, another exception occurred:\n",
      "\u001b[0;31mLookupError\u001b[0m                               Traceback (most recent call last)",
      "\u001b[1;32m/mnt/extra/Projects/IB-tax-calculator/dividents.ipynb Cell 7\u001b[0m line \u001b[0;36m6\n\u001b[1;32m      <a href='vscode-notebook-cell:/mnt/extra/Projects/IB-tax-calculator/dividents.ipynb#W6sZmlsZQ%3D%3D?line=1'>2</a>\u001b[0m convertedCommonFormat \u001b[39m=\u001b[39m ibkrProvider\u001b[39m.\u001b[39mtransformBrokerEventsToBrokerAgnosticEvents(mergedReports)\n\u001b[1;32m      <a href='vscode-notebook-cell:/mnt/extra/Projects/IB-tax-calculator/dividents.ipynb#W6sZmlsZQ%3D%3D?line=2'>3</a>\u001b[0m gUtils \u001b[39m=\u001b[39m gu\u001b[39m.\u001b[39mGenericUtilities()\n\u001b[0;32m----> <a href='vscode-notebook-cell:/mnt/extra/Projects/IB-tax-calculator/dividents.ipynb#W6sZmlsZQ%3D%3D?line=5'>6</a>\u001b[0m converted \u001b[39m=\u001b[39m gUtils\u001b[39m.\u001b[39;49mgenerateGenericGroupings(convertedCommonFormat)\n\u001b[1;32m      <a href='vscode-notebook-cell:/mnt/extra/Projects/IB-tax-calculator/dividents.ipynb#W6sZmlsZQ%3D%3D?line=6'>7</a>\u001b[0m \u001b[39mprint\u001b[39m(converted)\n\u001b[1;32m      <a href='vscode-notebook-cell:/mnt/extra/Projects/IB-tax-calculator/dividents.ipynb#W6sZmlsZQ%3D%3D?line=8'>9</a>\u001b[0m \u001b[39m# print(convertedCommonFormat)\u001b[39;00m\n",
      "File \u001b[0;32m/mnt/extra/Projects/IB-tax-calculator/src/ReportingStrategies/GenericUtilities.py:182\u001b[0m, in \u001b[0;36mGenericUtilities.generateGenericGroupings\u001b[0;34m(self, groupings)\u001b[0m\n\u001b[1;32m    181\u001b[0m \u001b[39mdef\u001b[39;00m \u001b[39mgenerateGenericGroupings\u001b[39m(\u001b[39mself\u001b[39m, groupings: Sequence[gf\u001b[39m.\u001b[39mGenericUnderlyingGroupingStaging]) \u001b[39m-\u001b[39m\u001b[39m>\u001b[39m Sequence[gf\u001b[39m.\u001b[39mUnderlyingGrouping]:\n\u001b[0;32m--> 182\u001b[0m     processedGroupings \u001b[39m=\u001b[39m \u001b[39mlist\u001b[39;49m(\u001b[39mmap\u001b[39;49m(\u001b[39mself\u001b[39;49m\u001b[39m.\u001b[39;49mprocessGenericGrouping, groupings))\n\u001b[1;32m    183\u001b[0m     \u001b[39mreturn\u001b[39;00m processedGroupings\n",
      "File \u001b[0;32m/mnt/extra/Projects/IB-tax-calculator/src/ReportingStrategies/GenericUtilities.py:154\u001b[0m, in \u001b[0;36mGenericUtilities.processGenericGrouping\u001b[0;34m(self, grouping)\u001b[0m\n\u001b[1;32m    151\u001b[0m allTrades \u001b[39m=\u001b[39m processedTrades \u001b[39m+\u001b[39m tradesCausedByCorporateActions\n\u001b[1;32m    153\u001b[0m stockLots \u001b[39m=\u001b[39m grouping\u001b[39m.\u001b[39mStockTaxLots\n\u001b[0;32m--> 154\u001b[0m processedStockLots \u001b[39m=\u001b[39m \u001b[39mlist\u001b[39m(\u001b[39mmap\u001b[39m(\u001b[39mlambda\u001b[39;00m lot: \u001b[39mself\u001b[39m\u001b[39m.\u001b[39mprocessStockLot(lot, allTrades), stockLots))\n\u001b[1;32m    156\u001b[0m derivativeTrades \u001b[39m=\u001b[39m grouping\u001b[39m.\u001b[39mDerivativeTrades\n\u001b[1;32m    157\u001b[0m processedDerivatives \u001b[39m=\u001b[39m \u001b[39mlist\u001b[39m(\u001b[39mmap\u001b[39m(\u001b[39mself\u001b[39m\u001b[39m.\u001b[39mprocessDerivativeTrade, derivativeTrades))\n",
      "File \u001b[0;32m/mnt/extra/Projects/IB-tax-calculator/src/ReportingStrategies/GenericUtilities.py:154\u001b[0m, in \u001b[0;36mGenericUtilities.processGenericGrouping.<locals>.<lambda>\u001b[0;34m(lot)\u001b[0m\n\u001b[1;32m    151\u001b[0m allTrades \u001b[39m=\u001b[39m processedTrades \u001b[39m+\u001b[39m tradesCausedByCorporateActions\n\u001b[1;32m    153\u001b[0m stockLots \u001b[39m=\u001b[39m grouping\u001b[39m.\u001b[39mStockTaxLots\n\u001b[0;32m--> 154\u001b[0m processedStockLots \u001b[39m=\u001b[39m \u001b[39mlist\u001b[39m(\u001b[39mmap\u001b[39m(\u001b[39mlambda\u001b[39;00m lot: \u001b[39mself\u001b[39;49m\u001b[39m.\u001b[39;49mprocessStockLot(lot, allTrades), stockLots))\n\u001b[1;32m    156\u001b[0m derivativeTrades \u001b[39m=\u001b[39m grouping\u001b[39m.\u001b[39mDerivativeTrades\n\u001b[1;32m    157\u001b[0m processedDerivatives \u001b[39m=\u001b[39m \u001b[39mlist\u001b[39m(\u001b[39mmap\u001b[39m(\u001b[39mself\u001b[39m\u001b[39m.\u001b[39mprocessDerivativeTrade, derivativeTrades))\n",
      "File \u001b[0;32m/mnt/extra/Projects/IB-tax-calculator/src/ReportingStrategies/GenericUtilities.py:81\u001b[0m, in \u001b[0;36mGenericUtilities.processStockLot\u001b[0;34m(self, lot, allTrades)\u001b[0m\n\u001b[1;32m     79\u001b[0m \u001b[39mexcept\u001b[39;00m \u001b[39mStopIteration\u001b[39;00m:\n\u001b[1;32m     80\u001b[0m     \u001b[39mprint\u001b[39m(\u001b[39m\"\u001b[39m\u001b[39mFailed processing stock lot (ID: \u001b[39m\u001b[39m{}\u001b[39;00m\u001b[39m, ISIN: \u001b[39m\u001b[39m{}\u001b[39;00m\u001b[39m), found no match\u001b[39m\u001b[39m\"\u001b[39m\u001b[39m.\u001b[39mformat(lot\u001b[39m.\u001b[39mID, lot\u001b[39m.\u001b[39mISIN))\n\u001b[0;32m---> 81\u001b[0m     \u001b[39mraise\u001b[39;00m \u001b[39mLookupError\u001b[39;00m\n\u001b[1;32m     83\u001b[0m processed \u001b[39m=\u001b[39m gf\u001b[39m.\u001b[39mTradeTaxLotEventStock(\n\u001b[1;32m     84\u001b[0m     ID\u001b[39m=\u001b[39mlot\u001b[39m.\u001b[39mID,\n\u001b[1;32m     85\u001b[0m     ISIN\u001b[39m=\u001b[39mlot\u001b[39m.\u001b[39mISIN,\n\u001b[0;32m   (...)\u001b[0m\n\u001b[1;32m     89\u001b[0m     ShortLongType\u001b[39m=\u001b[39mgf\u001b[39m.\u001b[39mGenericShortLong\u001b[39m.\u001b[39mLONG,\n\u001b[1;32m     90\u001b[0m )\n\u001b[1;32m     92\u001b[0m \u001b[39mreturn\u001b[39;00m processed\n",
      "\u001b[0;31mLookupError\u001b[0m: "
     ]
    }
   ],
   "source": [
    "reportconfig = sir.EDavkiReportConfig(fromDate=arrow.get(\"2022\"), toDate=arrow.get(\"2023\"), ReportType=sir.EDavkiDocumentWorkflowType.ORIGINAL)\n",
    "convertedCommonFormat = ibkrProvider.transformBrokerEventsToBrokerAgnosticEvents(mergedReports)\n",
    "gUtils = gu.GenericUtilities()\n",
    "\n",
    "\n",
    "converted = gUtils.generateGenericGroupings(convertedCommonFormat)\n",
    "print(converted)\n",
    "\n",
    "# print(convertedCommonFormat)\n",
    "tradeReport = sir.EDavkiTradesReport(reportConfig=reportconfig, taxPayerInfo=taxPayerInfo)\n",
    "envelope = tradeReport.createReportEnvelope()\n",
    "\n",
    "\n",
    "tradeCsv = tradeReport.generateDataFrameReport(converted)\n",
    "tradeCsv.to_csv(os.path.join(generatedDirectory, 'export-trades.csv'), index=False)\n",
    "\n",
    "\n",
    "\n",
    "xmlReport = tradeReport.generateXmlReport(converted, envelope)\n",
    "\n",
    "\n",
    "etree.ElementTree(xmlReport).write(os.path.join(generatedDirectory, \"Doh_KDVP_9.xml\"), xml_declaration=True, encoding='utf-8', pretty_print=True)\n"
   ]
  },
  {
   "cell_type": "markdown",
   "metadata": {},
   "source": [
    "### Derivatives Report"
   ]
  },
  {
   "cell_type": "code",
   "execution_count": 10,
   "metadata": {},
   "outputs": [
    {
     "name": "stdout",
     "output_type": "stream",
     "text": [
      "US0378331005\n"
     ]
    }
   ],
   "source": [
    "reportconfig = sir.EDavkiReportConfig(fromDate=arrow.get(\"2023\"), toDate=arrow.get(\"2024\"), ReportType=sir.EDavkiDocumentWorkflowType.ORIGINAL)\n",
    "convertedCommonFormat = ibrkMapper.getGenericDerivativeTradeLinesFromIBRKTrades(mergedReports)\n",
    "\n",
    "# print(convertedCommonFormat)\n",
    "tradeReport = sir.EDavkiDerivativeReport(reportConfig=reportconfig, taxPayerInfo=taxPayerInfo)\n",
    "envelope = tradeReport.createReportEnvelope()\n",
    "\n",
    "\n",
    "test = tradeReport.convertTradesToIfiItems(convertedCommonFormat)\n",
    "\n",
    "\n",
    "\n",
    "\n",
    "\n",
    "tradeCsv = tradeReport.generateDataFrameReport(convertedCommonFormat)\n",
    "tradeCsv.to_csv(os.path.join(generatedDirectory, 'export-derivatives.csv'), index=False)\n",
    "\n",
    "\n",
    "\n",
    "xmlReport = tradeReport.generateXmlReport(convertedCommonFormat, envelope)\n",
    "\n",
    "\n",
    "etree.ElementTree(xmlReport).write(os.path.join(generatedDirectory, \"D_IFI_4.xml\"), xml_declaration=True, encoding='utf-8', pretty_print=True)\n"
   ]
  }
 ],
 "metadata": {
  "kernelspec": {
   "display_name": ".venv",
   "language": "python",
   "name": "python3"
  },
  "language_info": {
   "codemirror_mode": {
    "name": "ipython",
    "version": 3
   },
   "file_extension": ".py",
   "mimetype": "text/x-python",
   "name": "python",
   "nbconvert_exporter": "python",
   "pygments_lexer": "ipython3",
   "version": "3.11.7"
  }
 },
 "nbformat": 4,
 "nbformat_minor": 2
}
