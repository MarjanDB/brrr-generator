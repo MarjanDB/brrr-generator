{
 "cells": [
  {
   "cell_type": "code",
   "execution_count": 1,
   "metadata": {},
   "outputs": [],
   "source": [
    "from IPython import get_ipython\n",
    "ip = get_ipython()\n",
    "ip.run_line_magic(\"reload_ext\", \"autoreload\")  # these will enable module autoreloading\n",
    "ip.run_line_magic(\"autoreload\", \"2\")"
   ]
  },
  {
   "cell_type": "markdown",
   "metadata": {},
   "source": [
    "### Load in Exports"
   ]
  },
  {
   "cell_type": "code",
   "execution_count": 2,
   "metadata": {},
   "outputs": [
    {
     "name": "stdout",
     "output_type": "stream",
     "text": [
      "['Tax_Relevant_Export_2023.xml', 'Tax_Relevant_Export_2022.xml']\n"
     ]
    }
   ],
   "source": [
    "import os\n",
    "from glob import glob\n",
    "import src.ExportProvider.IBKR.Extract as ibrk\n",
    "from lxml import etree\n",
    "import src.ReportingStrategies.Slovenia.ReportGeneration as sir\n",
    "import src.ReportingStrategies.Slovenia.Mappers.IBKR as ibrkMapper\n",
    "import src.ConfigurationProvider.Configuration as conf\n",
    "from arrow import Arrow\n",
    "import arrow\n",
    "\n",
    "rootOfProject = os.getcwd()\n",
    "\n",
    "reportsDirectory = os.path.join(rootOfProject, \"imports\")\n",
    "generatedDirectory = os.path.join(rootOfProject, \"exports\")\n",
    "configDirectory = os.path.join(rootOfProject, \"config\")\n",
    "\n",
    "configProvider = conf.ConfigurationProvider(configDirectory)\n",
    "taxPayerInfo = configProvider.getConfig()\n",
    "\n",
    "brokerExports = glob(\"*.xml\", root_dir=reportsDirectory)\n",
    "print(brokerExports)\n",
    "\n",
    "\n",
    "def loadFileAndExtractLines(file: str):\n",
    "    fileLocation = os.path.join(reportsDirectory, file)\n",
    "    \n",
    "    with open(fileLocation) as fobj:\n",
    "        xml = fobj.read()\n",
    "\n",
    "    root = etree.fromstring(xml)\n",
    "    transactions = ibrk.extractFromXML(root)\n",
    "    return transactions\n",
    "\n",
    "brokerReports = list(map(loadFileAndExtractLines, brokerExports))\n",
    "mergedReports = ibrk.mergeTrades(brokerReports)"
   ]
  },
  {
   "cell_type": "markdown",
   "metadata": {},
   "source": [
    "### Dividends Reports"
   ]
  },
  {
   "cell_type": "code",
   "execution_count": 3,
   "metadata": {},
   "outputs": [],
   "source": [
    "reportconfig = sir.EDavkiReportConfig(fromDate=arrow.get(\"2023\"), toDate=arrow.get(\"2024\"), ReportType=sir.EDavkiDocumentWorkflowType.SELF_REPORT)\n",
    "\n",
    "dividendReport = sir.EDavkiDividendReport(reportConfig=reportconfig, taxPayerInfo=taxPayerInfo)\n",
    "envelope = dividendReport.createReportEnvelope()\n",
    "\n",
    "convertedCommonFormat = ibrkMapper.getGenericDividendLineFromIBRKCashTransactions(mergedReports.cashTransactions)\n",
    "\n",
    "csvReport = dividendReport.generateDataFrameReport(convertedCommonFormat)\n",
    "csvReport.to_csv(os.path.join(generatedDirectory, 'export.csv'), index=False)\n",
    "\n",
    "xmlReport = dividendReport.generateXmlReport(convertedCommonFormat, envelope)\n",
    "\n",
    "\n",
    "etree.ElementTree(xmlReport).write(os.path.join(generatedDirectory, \"Doh_Div_3.xml\"), xml_declaration=True, encoding='utf-8', pretty_print=True)\n",
    "\n"
   ]
  },
  {
   "cell_type": "markdown",
   "metadata": {},
   "source": [
    "### Stock Trades"
   ]
  },
  {
   "cell_type": "code",
   "execution_count": 4,
   "metadata": {},
   "outputs": [
    {
     "name": "stdout",
     "output_type": "stream",
     "text": [
      "US22052L1044\n",
      "DE0005190003\n",
      "DE000A0LAUP1\n",
      "FR0010208488\n",
      "FR0000120271\n",
      "DE000WAF3001\n",
      "CA0156581070\n",
      "US6742152076\n",
      "MHY1146L1258\n",
      "US91851C2017\n",
      "US2908462037\n",
      "MHY2685T1313\n",
      "US40434L1052\n",
      "US30303M1027\n",
      "US7475251036\n",
      "US7982411057\n",
      "MHY8900D1085\n",
      "FR0010242511\n",
      "FR0014008WS3\n",
      "US0378331005\n",
      "US26152H3012\n",
      "CA82509L1076\n",
      "US8354831088\n",
      "US91822M1062\n",
      "CA9528451052\n"
     ]
    }
   ],
   "source": [
    "reportconfig = sir.EDavkiReportConfig(fromDate=arrow.get(\"2023\"), toDate=arrow.get(\"2024\"), ReportType=sir.EDavkiDocumentWorkflowType.SELF_REPORT)\n",
    "convertedCommonFormat = ibrkMapper.getGenericTradeLinesFromIBRKTrades(mergedReports)\n",
    "\n",
    "# print(convertedCommonFormat)\n",
    "tradeReport = sir.EDavkiTradesReport(reportConfig=reportconfig, taxPayerInfo=taxPayerInfo)\n",
    "envelope = tradeReport.createReportEnvelope()\n",
    "\n",
    "\n",
    "tradeCsv = tradeReport.generateDataFrameReport(convertedCommonFormat)\n",
    "tradeCsv.to_csv(os.path.join(generatedDirectory, 'export-trades.csv'), index=False)\n",
    "\n",
    "\n",
    "\n",
    "xmlReport = tradeReport.generateXmlReport(convertedCommonFormat, envelope)\n",
    "\n",
    "\n",
    "etree.ElementTree(xmlReport).write(os.path.join(generatedDirectory, \"Doh_KDVP_9.xml\"), xml_declaration=True, encoding='utf-8', pretty_print=True)\n"
   ]
  },
  {
   "cell_type": "markdown",
   "metadata": {},
   "source": [
    "### Derivatives Report"
   ]
  },
  {
   "cell_type": "code",
   "execution_count": 14,
   "metadata": {},
   "outputs": [
    {
     "name": "stdout",
     "output_type": "stream",
     "text": [
      "US0378331005\n"
     ]
    }
   ],
   "source": [
    "reportconfig = sir.EDavkiReportConfig(fromDate=arrow.get(\"2023\"), toDate=arrow.get(\"2024\"), ReportType=sir.EDavkiDocumentWorkflowType.SELF_REPORT)\n",
    "convertedCommonFormat = ibrkMapper.getGenericDerivativeTradeLinesFromIBRKTrades(mergedReports)\n",
    "\n",
    "# print(convertedCommonFormat)\n",
    "tradeReport = sir.EDavkiDerivativeReport(reportConfig=reportconfig, taxPayerInfo=taxPayerInfo)\n",
    "envelope = tradeReport.createReportEnvelope()\n",
    "\n",
    "\n",
    "test = tradeReport.convertTradesToIfiItems(convertedCommonFormat)\n",
    "\n",
    "\n",
    "\n",
    "\n",
    "\n",
    "tradeCsv = tradeReport.generateDataFrameReport(convertedCommonFormat)\n",
    "tradeCsv.to_csv(os.path.join(generatedDirectory, 'export-derivatives.csv'), index=False)\n",
    "\n",
    "\n",
    "\n",
    "xmlReport = tradeReport.generateXmlReport(convertedCommonFormat, envelope)\n",
    "\n",
    "\n",
    "etree.ElementTree(xmlReport).write(os.path.join(generatedDirectory, \"D_IFI_4.xml\"), xml_declaration=True, encoding='utf-8', pretty_print=True)\n"
   ]
  }
 ],
 "metadata": {
  "kernelspec": {
   "display_name": ".venv",
   "language": "python",
   "name": "python3"
  },
  "language_info": {
   "codemirror_mode": {
    "name": "ipython",
    "version": 3
   },
   "file_extension": ".py",
   "mimetype": "text/x-python",
   "name": "python",
   "nbconvert_exporter": "python",
   "pygments_lexer": "ipython3",
   "version": "3.11.6"
  }
 },
 "nbformat": 4,
 "nbformat_minor": 2
}
