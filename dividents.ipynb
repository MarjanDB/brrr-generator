{
 "cells": [
  {
   "cell_type": "code",
   "execution_count": 2,
   "metadata": {},
   "outputs": [],
   "source": [
    "from IPython import get_ipython\n",
    "ip = get_ipython()\n",
    "ip.run_line_magic(\"reload_ext\", \"autoreload\")  # these will enable module autoreloading\n",
    "ip.run_line_magic(\"autoreload\", \"2\")"
   ]
  },
  {
   "cell_type": "markdown",
   "metadata": {},
   "source": [
    "### Load in Exports"
   ]
  },
  {
   "cell_type": "code",
   "execution_count": 8,
   "metadata": {},
   "outputs": [
    {
     "name": "stdout",
     "output_type": "stream",
     "text": [
      "['/mnt/extra/Projects/IB-tax-calculator/imports/Tax_Relevant_Export_2023.xml', '/mnt/extra/Projects/IB-tax-calculator/imports/Tax_Relevant_Export_2022.xml']\n"
     ]
    }
   ],
   "source": [
    "import os\n",
    "from lxml import etree\n",
    "import src.BrokerageExportProviders.Brokerages.IBKR.IbkrBrokerageExportProvider as ibrk\n",
    "import src.ConfigurationProvider.Configuration as conf\n",
    "import src.Core.FinancialEvents.GroupingProcessor.StagingToUnderlyingProcessor as stup\n",
    "import arrow\n",
    "\n",
    "rootOfProject = os.getcwd()\n",
    "\n",
    "reportsDirectory = os.path.join(rootOfProject, \"imports\")\n",
    "generatedDirectory = os.path.join(rootOfProject, \"exports\")\n",
    "configDirectory = os.path.join(rootOfProject, \"config\")\n",
    "\n",
    "configProvider = conf.ConfigurationProvider(configDirectory)\n",
    "taxPayerInfo = configProvider.getConfig()\n",
    "\n",
    "ibkrProvider = ibrk.IbkrBrokerageExportProvider()\n",
    "brokerExports = ibkrProvider.getListOfReportsAvailableForBroker(reportsDirectory)\n",
    "print(brokerExports)\n",
    "\n",
    "\n",
    "\n",
    "def loadFileAndExtractLines(file: str):  \n",
    "    transactions = ibkrProvider.getBrokerEventsForReport(file)\n",
    "    return transactions\n",
    "\n",
    "brokerReports = list(map(loadFileAndExtractLines, brokerExports))\n",
    "mergedReports = ibkrProvider.mergeBrokerEvents(brokerReports)"
   ]
  },
  {
   "cell_type": "code",
   "execution_count": 10,
   "metadata": {},
   "outputs": [],
   "source": [
    "import src.TaxAuthorityProvider.TaxAuthorities.Slovenia.TaxAuthorityProvider as tap\n",
    "import src.TaxAuthorityProvider.TaxAuthorities.Slovenia.Schemas.ReportTypes as rt\n",
    "import src.TaxAuthorityProvider.Schemas.Configuration as cf"
   ]
  },
  {
   "cell_type": "markdown",
   "metadata": {},
   "source": [
    "### Dividends Reports"
   ]
  },
  {
   "cell_type": "code",
   "execution_count": 7,
   "metadata": {},
   "outputs": [],
   "source": [
    "reportconfig = cf.TaxAuthorityConfiguration(fromDate=arrow.get(\"2022\"), toDate=arrow.get(\"2023\"))\n",
    "\n",
    "dividendReport = sir.EDavkiDividendReport(reportConfig=reportconfig, taxPayerInfo=taxPayerInfo)\n",
    "envelope = dividendReport.createReportEnvelope()\n",
    "\n",
    "convertedCommonFormat = ibrkMapper.getGenericDividendLineFromIBRKCashTransactions(mergedReports.cashTransactions)\n",
    "\n",
    "csvReport = dividendReport.generateDataFrameReport(convertedCommonFormat)\n",
    "csvReport.to_csv(os.path.join(generatedDirectory, 'export.csv'), index=False)\n",
    "\n",
    "xmlReport = dividendReport.generateXmlReport(convertedCommonFormat, envelope)\n",
    "\n",
    "\n",
    "etree.ElementTree(xmlReport).write(os.path.join(generatedDirectory, \"Doh_Div_3.xml\"), xml_declaration=True, encoding='utf-8', pretty_print=True)\n",
    "\n"
   ]
  },
  {
   "cell_type": "markdown",
   "metadata": {},
   "source": [
    "### Stock Trades"
   ]
  },
  {
   "cell_type": "code",
   "execution_count": 17,
   "metadata": {},
   "outputs": [
    {
     "name": "stdout",
     "output_type": "stream",
     "text": [
      "Failed processing stock lot (ID: 290300028, ISIN: US6742152076), found no match\n",
      "Failed processing stock lot (ID: , ISIN: MHY8900D1085), found no match\n",
      "Failed processing stock lot (ID: 259223542, ISIN: FR0014008WS3), found no match\n"
     ]
    }
   ],
   "source": [
    "reportconfig = cf.TaxAuthorityConfiguration(fromDate=arrow.get(\"2022\"), toDate=arrow.get(\"2023\"))\n",
    "convertedCommonFormat = ibkrProvider.transformBrokerEventsToBrokerAgnosticEvents(mergedReports)\n",
    "groupingProcessor = stup.StagingToUnderlyingProcessor()\n",
    "\n",
    "\n",
    "converted = groupingProcessor.generateGenericGroupings(convertedCommonFormat)\n",
    "\n",
    "# print(convertedCommonFormat)\n",
    "provider = tap.SlovenianTaxAuthorityProvider(taxPayerInfo=taxPayerInfo, reportConfig=reportconfig)\n",
    "tradeReport = provider.generateExportForTaxAuthority(reportType=rt.SlovenianTaxAuthorityReportTypes.DOH_KDVP, data=converted)\n",
    "\n",
    "\n",
    "tradeCsv = provider.generateSpreadsheetExport(reportType=rt.SlovenianTaxAuthorityReportTypes.DOH_KDVP, data=converted)\n",
    "tradeCsv.to_csv(os.path.join(generatedDirectory, 'export-trades.csv'), index=False)\n",
    "\n",
    "\n",
    "\n",
    "etree.ElementTree(tradeReport).write(os.path.join(generatedDirectory, \"Doh_KDVP_9.xml\"), xml_declaration=True, encoding='utf-8', pretty_print=True)\n"
   ]
  },
  {
   "cell_type": "markdown",
   "metadata": {},
   "source": [
    "### Derivatives Report"
   ]
  },
  {
   "cell_type": "code",
   "execution_count": 10,
   "metadata": {},
   "outputs": [
    {
     "name": "stdout",
     "output_type": "stream",
     "text": [
      "US0378331005\n"
     ]
    }
   ],
   "source": [
    "reportconfig = sir.EDavkiReportConfig(fromDate=arrow.get(\"2023\"), toDate=arrow.get(\"2024\"), ReportType=sir.EDavkiDocumentWorkflowType.ORIGINAL)\n",
    "convertedCommonFormat = ibrkMapper.getGenericDerivativeTradeLinesFromIBRKTrades(mergedReports)\n",
    "\n",
    "# print(convertedCommonFormat)\n",
    "tradeReport = sir.EDavkiDerivativeReport(reportConfig=reportconfig, taxPayerInfo=taxPayerInfo)\n",
    "envelope = tradeReport.createReportEnvelope()\n",
    "\n",
    "\n",
    "test = tradeReport.convertTradesToIfiItems(convertedCommonFormat)\n",
    "\n",
    "\n",
    "\n",
    "\n",
    "\n",
    "tradeCsv = tradeReport.generateDataFrameReport(convertedCommonFormat)\n",
    "tradeCsv.to_csv(os.path.join(generatedDirectory, 'export-derivatives.csv'), index=False)\n",
    "\n",
    "\n",
    "\n",
    "xmlReport = tradeReport.generateXmlReport(convertedCommonFormat, envelope)\n",
    "\n",
    "\n",
    "etree.ElementTree(xmlReport).write(os.path.join(generatedDirectory, \"D_IFI_4.xml\"), xml_declaration=True, encoding='utf-8', pretty_print=True)\n"
   ]
  }
 ],
 "metadata": {
  "kernelspec": {
   "display_name": ".venv",
   "language": "python",
   "name": "python3"
  },
  "language_info": {
   "codemirror_mode": {
    "name": "ipython",
    "version": 3
   },
   "file_extension": ".py",
   "mimetype": "text/x-python",
   "name": "python",
   "nbconvert_exporter": "python",
   "pygments_lexer": "ipython3",
   "version": "3.11.7"
  }
 },
 "nbformat": 4,
 "nbformat_minor": 2
}
